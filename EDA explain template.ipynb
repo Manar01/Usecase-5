{
 "cells": [
  {
   "cell_type": "markdown",
   "id": "8e14c934",
   "metadata": {},
   "source": [
    "## Defining the Problem Statement\n",
    "We are analyzing job postings in Saudi Arabia to understand key employment trends. This includes insights on job distribution by region, gender preferences, and salary expectations."
   ]
  },
  {
   "cell_type": "code",
   "execution_count": null,
   "id": "b042659a",
   "metadata": {},
   "outputs": [
    {
     "name": "stdout",
     "output_type": "stream",
     "text": [
      "Requirement already satisfied: ydata_profiling in c:\\users\\manar\\anaconda3\\lib\\site-packages (4.12.2)\n",
      "Requirement already satisfied: pandas!=1.4.0,<3,>1.1 in c:\\users\\manar\\anaconda3\\lib\\site-packages (from ydata_profiling) (2.2.3)\n",
      "Requirement already satisfied: seaborn<0.14,>=0.10.1 in c:\\users\\manar\\anaconda3\\lib\\site-packages (from ydata_profiling) (0.11.2)\n",
      "Requirement already satisfied: imagehash==4.3.1 in c:\\users\\manar\\anaconda3\\lib\\site-packages (from ydata_profiling) (4.3.1)\n",
      "Requirement already satisfied: htmlmin==0.1.12 in c:\\users\\manar\\anaconda3\\lib\\site-packages (from ydata_profiling) (0.1.12)\n",
      "Requirement already satisfied: tqdm<5,>=4.48.2 in c:\\users\\manar\\anaconda3\\lib\\site-packages (from ydata_profiling) (4.62.3)\n",
      "Requirement already satisfied: statsmodels<1,>=0.13.2 in c:\\users\\manar\\anaconda3\\lib\\site-packages (from ydata_profiling) (0.14.4)\n",
      "Requirement already satisfied: multimethod<2,>=1.4 in c:\\users\\manar\\anaconda3\\lib\\site-packages (from ydata_profiling) (1.12)\n",
      "Requirement already satisfied: pydantic>=2 in c:\\users\\manar\\anaconda3\\lib\\site-packages (from ydata_profiling) (2.10.6)\n",
      "Requirement already satisfied: PyYAML<6.1,>=5.0.0 in c:\\users\\manar\\anaconda3\\lib\\site-packages (from ydata_profiling) (6.0)\n",
      "Requirement already satisfied: dacite>=1.8 in c:\\users\\manar\\anaconda3\\lib\\site-packages (from ydata_profiling) (1.9.2)\n",
      "Requirement already satisfied: jinja2<3.2,>=2.11.1 in c:\\users\\manar\\anaconda3\\lib\\site-packages (from ydata_profiling) (2.11.3)\n",
      "Requirement already satisfied: scipy<1.16,>=1.4.1 in c:\\users\\manar\\anaconda3\\lib\\site-packages (from ydata_profiling) (1.13.1)\n",
      "Requirement already satisfied: visions[type_image_path]<0.8.0,>=0.7.5 in c:\\users\\manar\\anaconda3\\lib\\site-packages (from ydata_profiling) (0.7.6)\n",
      "Requirement already satisfied: matplotlib>=3.5 in c:\\users\\manar\\anaconda3\\lib\\site-packages (from ydata_profiling) (3.6.0)\n",
      "Requirement already satisfied: requests<3,>=2.24.0 in c:\\users\\manar\\anaconda3\\lib\\site-packages (from ydata_profiling) (2.26.0)\n",
      "Requirement already satisfied: numpy<2.2,>=1.16.0 in c:\\users\\manar\\anaconda3\\lib\\site-packages (from ydata_profiling) (1.26.4)\n",
      "Requirement already satisfied: typeguard<5,>=3 in c:\\users\\manar\\anaconda3\\lib\\site-packages (from ydata_profiling) (4.4.2)\n",
      "Requirement already satisfied: phik<0.13,>=0.11.1 in c:\\users\\manar\\anaconda3\\lib\\site-packages (from ydata_profiling) (0.12.4)\n",
      "Requirement already satisfied: wordcloud>=1.9.3 in c:\\users\\manar\\anaconda3\\lib\\site-packages (from ydata_profiling) (1.9.4)\n",
      "Requirement already satisfied: PyWavelets in c:\\users\\manar\\anaconda3\\lib\\site-packages (from imagehash==4.3.1->ydata_profiling) (1.1.1)\n",
      "Requirement already satisfied: pillow in c:\\users\\manar\\anaconda3\\lib\\site-packages (from imagehash==4.3.1->ydata_profiling) (8.4.0)\n",
      "Requirement already satisfied: MarkupSafe>=0.23 in c:\\users\\manar\\anaconda3\\lib\\site-packages (from jinja2<3.2,>=2.11.1->ydata_profiling) (1.1.1)\n",
      "Requirement already satisfied: cycler>=0.10 in c:\\users\\manar\\anaconda3\\lib\\site-packages (from matplotlib>=3.5->ydata_profiling) (0.10.0)\n",
      "Requirement already satisfied: kiwisolver>=1.0.1 in c:\\users\\manar\\anaconda3\\lib\\site-packages (from matplotlib>=3.5->ydata_profiling) (1.3.1)\n",
      "Requirement already satisfied: packaging>=20.0 in c:\\users\\manar\\appdata\\roaming\\python\\python39\\site-packages (from matplotlib>=3.5->ydata_profiling) (24.2)\n",
      "Requirement already satisfied: pyparsing>=2.2.1 in c:\\users\\manar\\anaconda3\\lib\\site-packages (from matplotlib>=3.5->ydata_profiling) (3.0.4)\n",
      "Requirement already satisfied: contourpy>=1.0.1 in c:\\users\\manar\\anaconda3\\lib\\site-packages (from matplotlib>=3.5->ydata_profiling) (1.3.0)\n",
      "Requirement already satisfied: python-dateutil>=2.7 in c:\\users\\manar\\appdata\\roaming\\python\\python39\\site-packages (from matplotlib>=3.5->ydata_profiling) (2.9.0.post0)\n",
      "Requirement already satisfied: fonttools>=4.22.0 in c:\\users\\manar\\anaconda3\\lib\\site-packages (from matplotlib>=3.5->ydata_profiling) (4.25.0)\n",
      "Requirement already satisfied: six in c:\\users\\manar\\appdata\\roaming\\python\\python39\\site-packages (from cycler>=0.10->matplotlib>=3.5->ydata_profiling) (1.17.0)\n",
      "Requirement already satisfied: pytz>=2020.1 in c:\\users\\manar\\anaconda3\\lib\\site-packages (from pandas!=1.4.0,<3,>1.1->ydata_profiling) (2021.3)\n",
      "Requirement already satisfied: tzdata>=2022.7 in c:\\users\\manar\\anaconda3\\lib\\site-packages (from pandas!=1.4.0,<3,>1.1->ydata_profiling) (2025.1)\n",
      "Requirement already satisfied: joblib>=0.14.1 in c:\\users\\manar\\anaconda3\\lib\\site-packages (from phik<0.13,>=0.11.1->ydata_profiling) (1.1.0)\n",
      "Requirement already satisfied: pydantic-core==2.27.2 in c:\\users\\manar\\anaconda3\\lib\\site-packages (from pydantic>=2->ydata_profiling) (2.27.2)\n",
      "Requirement already satisfied: typing-extensions>=4.12.2 in c:\\users\\manar\\appdata\\roaming\\python\\python39\\site-packages (from pydantic>=2->ydata_profiling) (4.12.2)\n",
      "Requirement already satisfied: annotated-types>=0.6.0 in c:\\users\\manar\\anaconda3\\lib\\site-packages (from pydantic>=2->ydata_profiling) (0.7.0)\n",
      "Requirement already satisfied: urllib3<1.27,>=1.21.1 in c:\\users\\manar\\anaconda3\\lib\\site-packages (from requests<3,>=2.24.0->ydata_profiling) (1.26.7)\n",
      "Requirement already satisfied: charset-normalizer~=2.0.0 in c:\\users\\manar\\anaconda3\\lib\\site-packages (from requests<3,>=2.24.0->ydata_profiling) (2.0.4)\n",
      "Requirement already satisfied: idna<4,>=2.5 in c:\\users\\manar\\anaconda3\\lib\\site-packages (from requests<3,>=2.24.0->ydata_profiling) (3.2)\n",
      "Requirement already satisfied: certifi>=2017.4.17 in c:\\users\\manar\\anaconda3\\lib\\site-packages (from requests<3,>=2.24.0->ydata_profiling) (2025.1.31)\n",
      "Requirement already satisfied: patsy>=0.5.6 in c:\\users\\manar\\anaconda3\\lib\\site-packages (from statsmodels<1,>=0.13.2->ydata_profiling) (1.0.1)\n",
      "Requirement already satisfied: colorama in c:\\users\\manar\\appdata\\roaming\\python\\python39\\site-packages (from tqdm<5,>=4.48.2->ydata_profiling) (0.4.6)\n",
      "Requirement already satisfied: importlib_metadata>=3.6 in c:\\users\\manar\\appdata\\roaming\\python\\python39\\site-packages (from typeguard<5,>=3->ydata_profiling) (8.6.1)\n",
      "Requirement already satisfied: zipp>=3.20 in c:\\users\\manar\\appdata\\roaming\\python\\python39\\site-packages (from importlib_metadata>=3.6->typeguard<5,>=3->ydata_profiling) (3.21.0)\n",
      "Requirement already satisfied: attrs>=19.3.0 in c:\\users\\manar\\anaconda3\\lib\\site-packages (from visions[type_image_path]<0.8.0,>=0.7.5->ydata_profiling) (21.2.0)\n",
      "Requirement already satisfied: networkx>=2.4 in c:\\users\\manar\\anaconda3\\lib\\site-packages (from visions[type_image_path]<0.8.0,>=0.7.5->ydata_profiling) (2.6.3)\n",
      "Requirement already satisfied: ipyvizzu in c:\\users\\manar\\anaconda3\\lib\\site-packages (0.17.0)\n",
      "Requirement already satisfied: jsonschema in c:\\users\\manar\\anaconda3\\lib\\site-packages (from ipyvizzu) (3.2.0)\n",
      "Requirement already satisfied: IPython in c:\\users\\manar\\appdata\\roaming\\python\\python39\\site-packages (from ipyvizzu) (8.18.1)\n",
      "Requirement already satisfied: traitlets>=5 in c:\\users\\manar\\appdata\\roaming\\python\\python39\\site-packages (from IPython->ipyvizzu) (5.14.3)\n",
      "Requirement already satisfied: stack-data in c:\\users\\manar\\appdata\\roaming\\python\\python39\\site-packages (from IPython->ipyvizzu) (0.6.3)\n",
      "Requirement already satisfied: matplotlib-inline in c:\\users\\manar\\appdata\\roaming\\python\\python39\\site-packages (from IPython->ipyvizzu) (0.1.7)\n",
      "Requirement already satisfied: typing-extensions in c:\\users\\manar\\appdata\\roaming\\python\\python39\\site-packages (from IPython->ipyvizzu) (4.12.2)\n",
      "Requirement already satisfied: decorator in c:\\users\\manar\\appdata\\roaming\\python\\python39\\site-packages (from IPython->ipyvizzu) (5.1.1)\n",
      "Requirement already satisfied: colorama in c:\\users\\manar\\appdata\\roaming\\python\\python39\\site-packages (from IPython->ipyvizzu) (0.4.6)\n",
      "Requirement already satisfied: exceptiongroup in c:\\users\\manar\\appdata\\roaming\\python\\python39\\site-packages (from IPython->ipyvizzu) (1.2.2)\n",
      "Requirement already satisfied: prompt-toolkit<3.1.0,>=3.0.41 in c:\\users\\manar\\appdata\\roaming\\python\\python39\\site-packages (from IPython->ipyvizzu) (3.0.50)\n",
      "Requirement already satisfied: jedi>=0.16 in c:\\users\\manar\\appdata\\roaming\\python\\python39\\site-packages (from IPython->ipyvizzu) (0.19.2)\n",
      "Requirement already satisfied: pygments>=2.4.0 in c:\\users\\manar\\appdata\\roaming\\python\\python39\\site-packages (from IPython->ipyvizzu) (2.19.1)\n",
      "Requirement already satisfied: parso<0.9.0,>=0.8.4 in c:\\users\\manar\\appdata\\roaming\\python\\python39\\site-packages (from jedi>=0.16->IPython->ipyvizzu) (0.8.4)\n",
      "Requirement already satisfied: wcwidth in c:\\users\\manar\\appdata\\roaming\\python\\python39\\site-packages (from prompt-toolkit<3.1.0,>=3.0.41->IPython->ipyvizzu) (0.2.13)\n",
      "Requirement already satisfied: pyrsistent>=0.14.0 in c:\\users\\manar\\anaconda3\\lib\\site-packages (from jsonschema->ipyvizzu) (0.18.0)\n",
      "Requirement already satisfied: attrs>=17.4.0 in c:\\users\\manar\\anaconda3\\lib\\site-packages (from jsonschema->ipyvizzu) (21.2.0)\n",
      "Requirement already satisfied: setuptools in c:\\users\\manar\\anaconda3\\lib\\site-packages (from jsonschema->ipyvizzu) (58.0.4)\n",
      "Requirement already satisfied: six>=1.11.0 in c:\\users\\manar\\appdata\\roaming\\python\\python39\\site-packages (from jsonschema->ipyvizzu) (1.17.0)\n",
      "Requirement already satisfied: asttokens>=2.1.0 in c:\\users\\manar\\appdata\\roaming\\python\\python39\\site-packages (from stack-data->IPython->ipyvizzu) (3.0.0)\n",
      "Requirement already satisfied: executing>=1.2.0 in c:\\users\\manar\\appdata\\roaming\\python\\python39\\site-packages (from stack-data->IPython->ipyvizzu) (2.2.0)\n",
      "Requirement already satisfied: pure-eval in c:\\users\\manar\\appdata\\roaming\\python\\python39\\site-packages (from stack-data->IPython->ipyvizzu) (0.2.3)\n"
     ]
    }
   ],
   "source": [
    "#! pip install ydata_profiling\n",
    "#! pip install ipyvizzu"
   ]
  },
  {
   "cell_type": "code",
   "execution_count": 235,
   "id": "bd59e3bd",
   "metadata": {},
   "outputs": [
    {
     "name": "stdout",
     "output_type": "stream",
     "text": [
      "Collecting numba\n",
      "  Using cached numba-0.60.0-cp39-cp39-win_amd64.whl (2.7 MB)\n",
      "Collecting llvmlite<0.44,>=0.43.0dev0\n",
      "  Using cached llvmlite-0.43.0-cp39-cp39-win_amd64.whl (28.1 MB)\n",
      "Requirement already satisfied: numpy<2.1,>=1.22 in c:\\users\\manar\\anaconda3\\lib\\site-packages (from numba) (1.26.4)\n",
      "Installing collected packages: llvmlite, numba\n",
      "  Attempting uninstall: llvmlite\n",
      "    Found existing installation: llvmlite 0.37.0\n"
     ]
    },
    {
     "name": "stderr",
     "output_type": "stream",
     "text": [
      "ERROR: Cannot uninstall 'llvmlite'. It is a distutils installed project and thus we cannot accurately determine which files belong to it which would lead to only a partial uninstall.\n"
     ]
    }
   ],
   "source": [
    "! pip install --upgrade numba"
   ]
  },
  {
   "cell_type": "code",
   "execution_count": 236,
   "id": "a9fba339",
   "metadata": {},
   "outputs": [
    {
     "name": "stderr",
     "output_type": "stream",
     "text": [
      "WARNING: Skipping numba as it is not installed.\n"
     ]
    },
    {
     "name": "stdout",
     "output_type": "stream",
     "text": [
      "Collecting numba"
     ]
    },
    {
     "name": "stderr",
     "output_type": "stream",
     "text": [
      "ERROR: Cannot uninstall 'llvmlite'. It is a distutils installed project and thus we cannot accurately determine which files belong to it which would lead to only a partial uninstall.\n"
     ]
    },
    {
     "name": "stdout",
     "output_type": "stream",
     "text": [
      "\n",
      "  Using cached numba-0.60.0-cp39-cp39-win_amd64.whl (2.7 MB)\n",
      "Collecting llvmlite<0.44,>=0.43.0dev0\n",
      "  Using cached llvmlite-0.43.0-cp39-cp39-win_amd64.whl (28.1 MB)\n",
      "Requirement already satisfied: numpy<2.1,>=1.22 in c:\\users\\manar\\anaconda3\\lib\\site-packages (from numba) (1.26.4)\n",
      "Installing collected packages: llvmlite, numba\n",
      "  Attempting uninstall: llvmlite\n",
      "    Found existing installation: llvmlite 0.37.0\n"
     ]
    }
   ],
   "source": [
    "! pip uninstall numba -y\n",
    "! pip install numba"
   ]
  },
  {
   "cell_type": "markdown",
   "id": "576e6535",
   "metadata": {},
   "source": [
    "##  Loading the data\n",
    "\n",
    "The dataset consists of job postings collected from Jadarat."
   ]
  },
  {
   "cell_type": "markdown",
   "id": "f59e0c6f",
   "metadata": {},
   "source": []
  },
  {
   "cell_type": "code",
   "execution_count": null,
   "id": "68f3ede9",
   "metadata": {},
   "outputs": [],
   "source": [
    "# Import necessary libraries\n",
    "import numpy as np\n",
    "import pandas as pd\n",
    "import seaborn as sns\n",
    "import ipyvizzu as ipy\n",
    "from IPython.display import display\n",
    "import matplotlib.pyplot as plt\n",
    "\n",
    "## This statement allows the visuals to render within your Jupyter Notebook.\n",
    "%matplotlib inline\n"
   ]
  },
  {
   "cell_type": "code",
   "execution_count": 297,
   "id": "e49426c9",
   "metadata": {},
   "outputs": [],
   "source": [
    "# Read in the csv file and convert to a Pandas dataframe\n",
    "data = pd.read_csv('Jadarat_data.csv')"
   ]
  },
  {
   "cell_type": "markdown",
   "id": "16e057da",
   "metadata": {},
   "source": [
    "### Viewing the dataframe\n"
   ]
  },
  {
   "cell_type": "code",
   "execution_count": 298,
   "id": "94be5f7b",
   "metadata": {},
   "outputs": [
    {
     "data": {
      "text/html": [
       "<div>\n",
       "<style scoped>\n",
       "    .dataframe tbody tr th:only-of-type {\n",
       "        vertical-align: middle;\n",
       "    }\n",
       "\n",
       "    .dataframe tbody tr th {\n",
       "        vertical-align: top;\n",
       "    }\n",
       "\n",
       "    .dataframe thead th {\n",
       "        text-align: right;\n",
       "    }\n",
       "</style>\n",
       "<table border=\"1\" class=\"dataframe\">\n",
       "  <thead>\n",
       "    <tr style=\"text-align: right;\">\n",
       "      <th></th>\n",
       "      <th>job_title</th>\n",
       "      <th>job_date</th>\n",
       "      <th>job_desc</th>\n",
       "      <th>job_tasks</th>\n",
       "      <th>comp_name</th>\n",
       "      <th>comp_no</th>\n",
       "      <th>comp_type</th>\n",
       "      <th>comp_size</th>\n",
       "      <th>eco_activity</th>\n",
       "      <th>qualif</th>\n",
       "      <th>region</th>\n",
       "      <th>city</th>\n",
       "      <th>benefits</th>\n",
       "      <th>contract</th>\n",
       "      <th>positions</th>\n",
       "      <th>job_post_id</th>\n",
       "      <th>exper</th>\n",
       "      <th>gender</th>\n",
       "    </tr>\n",
       "  </thead>\n",
       "  <tbody>\n",
       "    <tr>\n",
       "      <th>0</th>\n",
       "      <td>محاسب</td>\n",
       "      <td>27/05/1444</td>\n",
       "      <td>['إعداد وتنظيم مستندات الصرف ومتابعة تحصيل الإ...</td>\n",
       "      <td>['   تدقيق المطالبات المالية والتأكد من اكتمال...</td>\n",
       "      <td>شركة مقر العالم للسفريات</td>\n",
       "      <td>1-317262</td>\n",
       "      <td>خاص</td>\n",
       "      <td>متوسطة فئة أ</td>\n",
       "      <td>أنشطة وكالات السياحة والسفر</td>\n",
       "      <td>['Language data', 'اللغة الانجليزية', 'محترف']</td>\n",
       "      <td>الرياض</td>\n",
       "      <td>AR RIYADH...</td>\n",
       "      <td>['Salary', '5000.0']</td>\n",
       "      <td>دوام كامل</td>\n",
       "      <td>0 / 1</td>\n",
       "      <td>20202026350419</td>\n",
       "      <td>0 Years</td>\n",
       "      <td>both</td>\n",
       "    </tr>\n",
       "    <tr>\n",
       "      <th>1</th>\n",
       "      <td>بائع</td>\n",
       "      <td>27/05/1444</td>\n",
       "      <td>['بيع مجموعة من السلع والخدمات للعملاء، وتوفير...</td>\n",
       "      <td>['   بيع مجموعة من السلع والخدمات للعملاء.', '...</td>\n",
       "      <td>شركة عالم الكهرباء للمقاولات</td>\n",
       "      <td>4-1324428</td>\n",
       "      <td>خاص</td>\n",
       "      <td>متوسطة فئة ب</td>\n",
       "      <td>تركيب انظمة التبريد وتكييف الهواء وصيانتها واص...</td>\n",
       "      <td>NaN</td>\n",
       "      <td>المنطقة الشرقية</td>\n",
       "      <td>AD DAMMAM...</td>\n",
       "      <td>['Salary', '5000.0']</td>\n",
       "      <td>دوام كامل</td>\n",
       "      <td>0 / 3</td>\n",
       "      <td>20202026350389</td>\n",
       "      <td>0 Years</td>\n",
       "      <td>both</td>\n",
       "    </tr>\n",
       "    <tr>\n",
       "      <th>2</th>\n",
       "      <td>أخصائي عمليات موارد بشرية</td>\n",
       "      <td>27/05/1444</td>\n",
       "      <td>['تنفيذ الإجراءات والأنظمة والنماذج الخاصة بمر...</td>\n",
       "      <td>['   تنفيذ الإجراءات والأنظمة والنماذج الخاصة ...</td>\n",
       "      <td>شركه دار السلام</td>\n",
       "      <td>1-155294</td>\n",
       "      <td>خاص</td>\n",
       "      <td>متوسطة فئة أ</td>\n",
       "      <td>ترميمات المباني السكنية والغير سكنية</td>\n",
       "      <td>['Language data', 'الانجليزيه', 'محترف']</td>\n",
       "      <td>الرياض</td>\n",
       "      <td>ATH THUMA...</td>\n",
       "      <td>['Salary', '4000.0']</td>\n",
       "      <td>دوام كامل</td>\n",
       "      <td>0 / 2</td>\n",
       "      <td>20202026350347</td>\n",
       "      <td>2 Years</td>\n",
       "      <td>both</td>\n",
       "    </tr>\n",
       "    <tr>\n",
       "      <th>3</th>\n",
       "      <td>ميكانيكي سيارات</td>\n",
       "      <td>27/05/1444</td>\n",
       "      <td>['تشخيص أعطال السيارات وإصلاحها وتنفيذ برامج ا...</td>\n",
       "      <td>['   فحص أداء المعدّات الكهربائية والميكانيكية...</td>\n",
       "      <td>مؤسسة لمكو لغيار الزيوت</td>\n",
       "      <td>8-1925495</td>\n",
       "      <td>خاص</td>\n",
       "      <td>صغيرة فئة ب</td>\n",
       "      <td>NaN</td>\n",
       "      <td>['Skill data', 'صيانة السيارات وتقييم الاعطال'...</td>\n",
       "      <td>المنطقة الشرقية</td>\n",
       "      <td>AL HUFUF...</td>\n",
       "      <td>['Salary', '5000.0']</td>\n",
       "      <td>دوام كامل</td>\n",
       "      <td>0 / 10</td>\n",
       "      <td>20202026350219</td>\n",
       "      <td>0 Years</td>\n",
       "      <td>M</td>\n",
       "    </tr>\n",
       "    <tr>\n",
       "      <th>4</th>\n",
       "      <td>محاسب</td>\n",
       "      <td>27/05/1444</td>\n",
       "      <td>['إعداد وتنظيم مستندات الصرف ومتابعة تحصيل الإ...</td>\n",
       "      <td>['   تدقيق المطالبات المالية والتأكد من اكتمال...</td>\n",
       "      <td>مؤسسة فكرة اليمامة للمقاولات</td>\n",
       "      <td>1-2356639</td>\n",
       "      <td>خاص</td>\n",
       "      <td>كبيرة</td>\n",
       "      <td>الإنشاءات العامة للمباني السكنية</td>\n",
       "      <td>['Skill data', 'تحمل ضغط العمل', 'محترف', 'Lan...</td>\n",
       "      <td>الرياض</td>\n",
       "      <td>AR RIYADH...</td>\n",
       "      <td>['Salary', '5000.0']</td>\n",
       "      <td>دوام كامل</td>\n",
       "      <td>0 / 1</td>\n",
       "      <td>20202026350043</td>\n",
       "      <td>0 Years</td>\n",
       "      <td>both</td>\n",
       "    </tr>\n",
       "    <tr>\n",
       "      <th>5</th>\n",
       "      <td>مراقب كاميرات أمنية</td>\n",
       "      <td>27/05/1444</td>\n",
       "      <td>['الإشراف على عمليات كاميرات المراقبة الأمنية،...</td>\n",
       "      <td>['   الإشراف على عمليات كاميرات المراقبة، والت...</td>\n",
       "      <td>مطاعم تراث الدمشقية للوجبات السريعة</td>\n",
       "      <td>1-1527188</td>\n",
       "      <td>خاص</td>\n",
       "      <td>صغيرة فئة ب</td>\n",
       "      <td>تشغيل المقاصف والكفتيريات على أساس إمتياز محدد...</td>\n",
       "      <td>['Skill data', 'اجادة الحاسب والتقنية ', 'متوس...</td>\n",
       "      <td>الرياض</td>\n",
       "      <td>AR RIYADH...</td>\n",
       "      <td>['Salary', '4500.0']</td>\n",
       "      <td>عمل عن بعد</td>\n",
       "      <td>0 / 1</td>\n",
       "      <td>20202026350031</td>\n",
       "      <td>0 Years</td>\n",
       "      <td>both</td>\n",
       "    </tr>\n",
       "    <tr>\n",
       "      <th>6</th>\n",
       "      <td>سكرتير تنفيذي</td>\n",
       "      <td>27/05/1444</td>\n",
       "      <td>['تنظيم المواعيد وإعداد المذكرات وإجراء المراس...</td>\n",
       "      <td>['   تنظيم مواعيد المدير/الرئيس وتذكيره بها، و...</td>\n",
       "      <td>شركة بيانات و دعم القرار للاستشارات في مجال ال...</td>\n",
       "      <td>9-2027654</td>\n",
       "      <td>خاص</td>\n",
       "      <td>صغيرة فئة أ</td>\n",
       "      <td>إعادة تأهيل وهيكلة العمليات الإدارية والمالية ...</td>\n",
       "      <td>['Language data', 'لغة انجليزية', 'محترف']</td>\n",
       "      <td>الرياض</td>\n",
       "      <td>AR RIYADH...</td>\n",
       "      <td>['Salary', '6000.0']</td>\n",
       "      <td>دوام كامل</td>\n",
       "      <td>0 / 2</td>\n",
       "      <td>20202026349999</td>\n",
       "      <td>4 Years</td>\n",
       "      <td>F</td>\n",
       "    </tr>\n",
       "    <tr>\n",
       "      <th>7</th>\n",
       "      <td>مدير مكتب</td>\n",
       "      <td>27/05/1444</td>\n",
       "      <td>['الإشراف المباشرعلى أنشطة إدارة وتخطيط وتنظيم...</td>\n",
       "      <td>['   إدارة وتوجيه عمليات وإجراءات تنسيق اجتماع...</td>\n",
       "      <td>شركة بيانات و دعم القرار للاستشارات في مجال ال...</td>\n",
       "      <td>9-2027654</td>\n",
       "      <td>خاص</td>\n",
       "      <td>صغيرة فئة أ</td>\n",
       "      <td>إعادة تأهيل وهيكلة العمليات الإدارية والمالية ...</td>\n",
       "      <td>['Language data', 'لغة انجليزية', 'محترف']</td>\n",
       "      <td>الرياض</td>\n",
       "      <td>AR RIYADH...</td>\n",
       "      <td>['Salary', '8000.0']</td>\n",
       "      <td>دوام كامل</td>\n",
       "      <td>0 / 1</td>\n",
       "      <td>20202026349997</td>\n",
       "      <td>4 Years</td>\n",
       "      <td>F</td>\n",
       "    </tr>\n",
       "    <tr>\n",
       "      <th>8</th>\n",
       "      <td>أخصائي إدارة مشاريع</td>\n",
       "      <td>27/05/1444</td>\n",
       "      <td>['تحليل عناصر وفعاليات المشروع ووضع الخطط والب...</td>\n",
       "      <td>['   تحليل عناصر وفعاليات المشروع وارتباطها وت...</td>\n",
       "      <td>شركة بيانات و دعم القرار للاستشارات في مجال ال...</td>\n",
       "      <td>9-2027654</td>\n",
       "      <td>خاص</td>\n",
       "      <td>صغيرة فئة أ</td>\n",
       "      <td>إعادة تأهيل وهيكلة العمليات الإدارية والمالية ...</td>\n",
       "      <td>['Language data', 'لغة انجليزية', 'محترف', 'Pr...</td>\n",
       "      <td>الرياض</td>\n",
       "      <td>AR RIYADH...</td>\n",
       "      <td>['Salary', '10000.0']</td>\n",
       "      <td>دوام كامل</td>\n",
       "      <td>0 / 3</td>\n",
       "      <td>20202026349992</td>\n",
       "      <td>2 Years</td>\n",
       "      <td>F</td>\n",
       "    </tr>\n",
       "    <tr>\n",
       "      <th>9</th>\n",
       "      <td>مصمم جرافيك</td>\n",
       "      <td>26/05/1444</td>\n",
       "      <td>['تطوير الأفكار الإبداعية والمفاهيم لتوصيل الر...</td>\n",
       "      <td>['   التنسيق مع مالك التصميم (عملاء محليون أو ...</td>\n",
       "      <td>شركة بيانات و دعم القرار للاستشارات في مجال ال...</td>\n",
       "      <td>9-2027654</td>\n",
       "      <td>خاص</td>\n",
       "      <td>صغيرة فئة أ</td>\n",
       "      <td>إعادة تأهيل وهيكلة العمليات الإدارية والمالية ...</td>\n",
       "      <td>['Language data', 'لغة انجليزية', 'متوسط']</td>\n",
       "      <td>الرياض</td>\n",
       "      <td>AR RIYADH...</td>\n",
       "      <td>['Salary', '5000.0']</td>\n",
       "      <td>دوام كامل</td>\n",
       "      <td>0 / 2</td>\n",
       "      <td>20202026349583</td>\n",
       "      <td>4 Years</td>\n",
       "      <td>F</td>\n",
       "    </tr>\n",
       "  </tbody>\n",
       "</table>\n",
       "</div>"
      ],
      "text/plain": [
       "                   job_title    job_date  \\\n",
       "0                      محاسب  27/05/1444   \n",
       "1                       بائع  27/05/1444   \n",
       "2  أخصائي عمليات موارد بشرية  27/05/1444   \n",
       "3            ميكانيكي سيارات  27/05/1444   \n",
       "4                      محاسب  27/05/1444   \n",
       "5        مراقب كاميرات أمنية  27/05/1444   \n",
       "6              سكرتير تنفيذي  27/05/1444   \n",
       "7                  مدير مكتب  27/05/1444   \n",
       "8        أخصائي إدارة مشاريع  27/05/1444   \n",
       "9                مصمم جرافيك  26/05/1444   \n",
       "\n",
       "                                            job_desc  \\\n",
       "0  ['إعداد وتنظيم مستندات الصرف ومتابعة تحصيل الإ...   \n",
       "1  ['بيع مجموعة من السلع والخدمات للعملاء، وتوفير...   \n",
       "2  ['تنفيذ الإجراءات والأنظمة والنماذج الخاصة بمر...   \n",
       "3  ['تشخيص أعطال السيارات وإصلاحها وتنفيذ برامج ا...   \n",
       "4  ['إعداد وتنظيم مستندات الصرف ومتابعة تحصيل الإ...   \n",
       "5  ['الإشراف على عمليات كاميرات المراقبة الأمنية،...   \n",
       "6  ['تنظيم المواعيد وإعداد المذكرات وإجراء المراس...   \n",
       "7  ['الإشراف المباشرعلى أنشطة إدارة وتخطيط وتنظيم...   \n",
       "8  ['تحليل عناصر وفعاليات المشروع ووضع الخطط والب...   \n",
       "9  ['تطوير الأفكار الإبداعية والمفاهيم لتوصيل الر...   \n",
       "\n",
       "                                           job_tasks  \\\n",
       "0  ['   تدقيق المطالبات المالية والتأكد من اكتمال...   \n",
       "1  ['   بيع مجموعة من السلع والخدمات للعملاء.', '...   \n",
       "2  ['   تنفيذ الإجراءات والأنظمة والنماذج الخاصة ...   \n",
       "3  ['   فحص أداء المعدّات الكهربائية والميكانيكية...   \n",
       "4  ['   تدقيق المطالبات المالية والتأكد من اكتمال...   \n",
       "5  ['   الإشراف على عمليات كاميرات المراقبة، والت...   \n",
       "6  ['   تنظيم مواعيد المدير/الرئيس وتذكيره بها، و...   \n",
       "7  ['   إدارة وتوجيه عمليات وإجراءات تنسيق اجتماع...   \n",
       "8  ['   تحليل عناصر وفعاليات المشروع وارتباطها وت...   \n",
       "9  ['   التنسيق مع مالك التصميم (عملاء محليون أو ...   \n",
       "\n",
       "                                           comp_name    comp_no comp_type  \\\n",
       "0                           شركة مقر العالم للسفريات   1-317262       خاص   \n",
       "1                       شركة عالم الكهرباء للمقاولات  4-1324428       خاص   \n",
       "2                                    شركه دار السلام   1-155294       خاص   \n",
       "3                            مؤسسة لمكو لغيار الزيوت  8-1925495       خاص   \n",
       "4                       مؤسسة فكرة اليمامة للمقاولات  1-2356639       خاص   \n",
       "5                مطاعم تراث الدمشقية للوجبات السريعة  1-1527188       خاص   \n",
       "6  شركة بيانات و دعم القرار للاستشارات في مجال ال...  9-2027654       خاص   \n",
       "7  شركة بيانات و دعم القرار للاستشارات في مجال ال...  9-2027654       خاص   \n",
       "8  شركة بيانات و دعم القرار للاستشارات في مجال ال...  9-2027654       خاص   \n",
       "9  شركة بيانات و دعم القرار للاستشارات في مجال ال...  9-2027654       خاص   \n",
       "\n",
       "      comp_size                                       eco_activity  \\\n",
       "0  متوسطة فئة أ                        أنشطة وكالات السياحة والسفر   \n",
       "1  متوسطة فئة ب  تركيب انظمة التبريد وتكييف الهواء وصيانتها واص...   \n",
       "2  متوسطة فئة أ               ترميمات المباني السكنية والغير سكنية   \n",
       "3   صغيرة فئة ب                                                NaN   \n",
       "4         كبيرة                   الإنشاءات العامة للمباني السكنية   \n",
       "5   صغيرة فئة ب  تشغيل المقاصف والكفتيريات على أساس إمتياز محدد...   \n",
       "6   صغيرة فئة أ  إعادة تأهيل وهيكلة العمليات الإدارية والمالية ...   \n",
       "7   صغيرة فئة أ  إعادة تأهيل وهيكلة العمليات الإدارية والمالية ...   \n",
       "8   صغيرة فئة أ  إعادة تأهيل وهيكلة العمليات الإدارية والمالية ...   \n",
       "9   صغيرة فئة أ  إعادة تأهيل وهيكلة العمليات الإدارية والمالية ...   \n",
       "\n",
       "                                              qualif           region  \\\n",
       "0     ['Language data', 'اللغة الانجليزية', 'محترف']           الرياض   \n",
       "1                                                NaN  المنطقة الشرقية   \n",
       "2           ['Language data', 'الانجليزيه', 'محترف']           الرياض   \n",
       "3  ['Skill data', 'صيانة السيارات وتقييم الاعطال'...  المنطقة الشرقية   \n",
       "4  ['Skill data', 'تحمل ضغط العمل', 'محترف', 'Lan...           الرياض   \n",
       "5  ['Skill data', 'اجادة الحاسب والتقنية ', 'متوس...           الرياض   \n",
       "6         ['Language data', 'لغة انجليزية', 'محترف']           الرياض   \n",
       "7         ['Language data', 'لغة انجليزية', 'محترف']           الرياض   \n",
       "8  ['Language data', 'لغة انجليزية', 'محترف', 'Pr...           الرياض   \n",
       "9         ['Language data', 'لغة انجليزية', 'متوسط']           الرياض   \n",
       "\n",
       "           city               benefits    contract positions     job_post_id  \\\n",
       "0  AR RIYADH...   ['Salary', '5000.0']   دوام كامل     0 / 1  20202026350419   \n",
       "1  AD DAMMAM...   ['Salary', '5000.0']   دوام كامل     0 / 3  20202026350389   \n",
       "2  ATH THUMA...   ['Salary', '4000.0']   دوام كامل     0 / 2  20202026350347   \n",
       "3   AL HUFUF...   ['Salary', '5000.0']   دوام كامل    0 / 10  20202026350219   \n",
       "4  AR RIYADH...   ['Salary', '5000.0']   دوام كامل     0 / 1  20202026350043   \n",
       "5  AR RIYADH...   ['Salary', '4500.0']  عمل عن بعد     0 / 1  20202026350031   \n",
       "6  AR RIYADH...   ['Salary', '6000.0']   دوام كامل     0 / 2  20202026349999   \n",
       "7  AR RIYADH...   ['Salary', '8000.0']   دوام كامل     0 / 1  20202026349997   \n",
       "8  AR RIYADH...  ['Salary', '10000.0']   دوام كامل     0 / 3  20202026349992   \n",
       "9  AR RIYADH...   ['Salary', '5000.0']   دوام كامل     0 / 2  20202026349583   \n",
       "\n",
       "     exper gender  \n",
       "0  0 Years   both  \n",
       "1  0 Years   both  \n",
       "2  2 Years   both  \n",
       "3  0 Years      M  \n",
       "4  0 Years   both  \n",
       "5  0 Years   both  \n",
       "6  4 Years      F  \n",
       "7  4 Years      F  \n",
       "8  2 Years      F  \n",
       "9  4 Years      F  "
      ]
     },
     "execution_count": 298,
     "metadata": {},
     "output_type": "execute_result"
    }
   ],
   "source": [
    "data.head(10)  # Preview the first few rows"
   ]
  },
  {
   "cell_type": "code",
   "execution_count": 299,
   "id": "2a46a239",
   "metadata": {},
   "outputs": [
    {
     "data": {
      "text/html": [
       "<div>\n",
       "<style scoped>\n",
       "    .dataframe tbody tr th:only-of-type {\n",
       "        vertical-align: middle;\n",
       "    }\n",
       "\n",
       "    .dataframe tbody tr th {\n",
       "        vertical-align: top;\n",
       "    }\n",
       "\n",
       "    .dataframe thead th {\n",
       "        text-align: right;\n",
       "    }\n",
       "</style>\n",
       "<table border=\"1\" class=\"dataframe\">\n",
       "  <thead>\n",
       "    <tr style=\"text-align: right;\">\n",
       "      <th></th>\n",
       "      <th>job_title</th>\n",
       "      <th>job_date</th>\n",
       "      <th>job_desc</th>\n",
       "      <th>job_tasks</th>\n",
       "      <th>comp_name</th>\n",
       "      <th>comp_no</th>\n",
       "      <th>comp_type</th>\n",
       "      <th>comp_size</th>\n",
       "      <th>eco_activity</th>\n",
       "      <th>qualif</th>\n",
       "      <th>region</th>\n",
       "      <th>city</th>\n",
       "      <th>benefits</th>\n",
       "      <th>contract</th>\n",
       "      <th>positions</th>\n",
       "      <th>job_post_id</th>\n",
       "      <th>exper</th>\n",
       "      <th>gender</th>\n",
       "    </tr>\n",
       "  </thead>\n",
       "  <tbody>\n",
       "    <tr>\n",
       "      <th>1460</th>\n",
       "      <td>كيميائي</td>\n",
       "      <td>23/06/1444</td>\n",
       "      <td>['دراسة خصائص المواد الكميائية للصناعات الكيمي...</td>\n",
       "      <td>['   إعداد برامج تشغيل الأجهزة والمعدات المخبر...</td>\n",
       "      <td>شركة نواف صالح البطي للتجارة</td>\n",
       "      <td>1-2604723</td>\n",
       "      <td>خاص</td>\n",
       "      <td>صغيرة فئة ب</td>\n",
       "      <td>تجارة الجملة والتجزئه في أنواع أخرى من المركبا...</td>\n",
       "      <td>NaN</td>\n",
       "      <td>الرياض</td>\n",
       "      <td>AR RIYADH...</td>\n",
       "      <td>['Salary', '5000.0']</td>\n",
       "      <td>دوام كامل</td>\n",
       "      <td>0 / 1</td>\n",
       "      <td>20202026402275</td>\n",
       "      <td>0 Years</td>\n",
       "      <td>F</td>\n",
       "    </tr>\n",
       "    <tr>\n",
       "      <th>1461</th>\n",
       "      <td>مساعد إداري</td>\n",
       "      <td>23/06/1444</td>\n",
       "      <td>['متابعة تنفيذ القرارات الادارية الصادرة عن ال...</td>\n",
       "      <td>['   تنفيذ التعليمات الادارية الصادرة عن الرئي...</td>\n",
       "      <td>شركة النصرة للمحاماة والاستشارات القانونية شرك...</td>\n",
       "      <td>15-1970732</td>\n",
       "      <td>خاص</td>\n",
       "      <td>صغيرة فئة أ</td>\n",
       "      <td>أنشطة الاستشارات في مجال الزكاة وضريبة الدخل</td>\n",
       "      <td>['Skill data', 'إدارة برامج التواصل الاجتماعي'...</td>\n",
       "      <td>المنطقة الشرقية</td>\n",
       "      <td>AL KHUBAR...</td>\n",
       "      <td>['Salary', '4000.0']</td>\n",
       "      <td>دوام كامل</td>\n",
       "      <td>0 / 1</td>\n",
       "      <td>20202026402243</td>\n",
       "      <td>2 Years</td>\n",
       "      <td>M</td>\n",
       "    </tr>\n",
       "    <tr>\n",
       "      <th>1462</th>\n",
       "      <td>سكرتير قانوني</td>\n",
       "      <td>23/06/1444</td>\n",
       "      <td>['توفير الدعم الإداري للعاملين في المهن القانو...</td>\n",
       "      <td>['   جمع المراسلات والوثائق الخاصة بملف القضاي...</td>\n",
       "      <td>شركة النصرة للمحاماة والاستشارات القانونية شرك...</td>\n",
       "      <td>15-1970732</td>\n",
       "      <td>خاص</td>\n",
       "      <td>صغيرة فئة أ</td>\n",
       "      <td>أنشطة الاستشارات في مجال الزكاة وضريبة الدخل</td>\n",
       "      <td>['Skill data', 'إدارة برامج التواصل الاجتماعي'...</td>\n",
       "      <td>المنطقة الشرقية</td>\n",
       "      <td>AL KHUBAR...</td>\n",
       "      <td>['Salary', '4000.0']</td>\n",
       "      <td>دوام كامل</td>\n",
       "      <td>0 / 1</td>\n",
       "      <td>20202026402227</td>\n",
       "      <td>0 Years</td>\n",
       "      <td>M</td>\n",
       "    </tr>\n",
       "    <tr>\n",
       "      <th>1463</th>\n",
       "      <td>بائع</td>\n",
       "      <td>21/06/1444</td>\n",
       "      <td>['بيع مجموعة من السلع والخدمات للعملاء، وتوفير...</td>\n",
       "      <td>['   بيع مجموعة من السلع والخدمات للعملاء.', '...</td>\n",
       "      <td>مؤسسة مصلح دخيل الله صالح الثبيتي للتجارة</td>\n",
       "      <td>13-13828</td>\n",
       "      <td>خاص</td>\n",
       "      <td>صغيرة فئة ب</td>\n",
       "      <td>البيع بالتجزئة للزهور والورود</td>\n",
       "      <td>['Skill data', 'استخدام الحاسب ', 'محترف', 'La...</td>\n",
       "      <td>مكة المكرمة</td>\n",
       "      <td>MAKKAH AL...</td>\n",
       "      <td>['Salary', '4000.0']</td>\n",
       "      <td>دوام كامل</td>\n",
       "      <td>0 / 1</td>\n",
       "      <td>20202026401331</td>\n",
       "      <td>0 Years</td>\n",
       "      <td>M</td>\n",
       "    </tr>\n",
       "    <tr>\n",
       "      <th>1464</th>\n",
       "      <td>بائع</td>\n",
       "      <td>21/06/1444</td>\n",
       "      <td>['بيع مجموعة من السلع والخدمات للعملاء، وتوفير...</td>\n",
       "      <td>['   بيع مجموعة من السلع والخدمات للعملاء.', '...</td>\n",
       "      <td>شركة النجمة الذهبية للتبريد والتكييف شركة شخص ...</td>\n",
       "      <td>8-1977608</td>\n",
       "      <td>خاص</td>\n",
       "      <td>صغيرة فئة ب</td>\n",
       "      <td>تركيب انظمة التبريد وتكييف الهواء وصيانتها واص...</td>\n",
       "      <td>NaN</td>\n",
       "      <td>المنطقة الشرقية</td>\n",
       "      <td>AL HUFUF...</td>\n",
       "      <td>['Salary', '4000.0']</td>\n",
       "      <td>دوام كامل</td>\n",
       "      <td>0 / 1</td>\n",
       "      <td>20202026401107</td>\n",
       "      <td>2 Years</td>\n",
       "      <td>F</td>\n",
       "    </tr>\n",
       "    <tr>\n",
       "      <th>1465</th>\n",
       "      <td>مهندس تقنية معلومات</td>\n",
       "      <td>19/06/1444</td>\n",
       "      <td>['دراسة احتياجات العميل من الأجهزة الحاسوبية و...</td>\n",
       "      <td>['   متابعة وتقييم عملية جمع وتحليل المعطيات و...</td>\n",
       "      <td>مطعم الاوراق الخضر لتقديم الوجبات</td>\n",
       "      <td>15-1698448</td>\n",
       "      <td>خاص</td>\n",
       "      <td>صغيرة فئة ب</td>\n",
       "      <td>المطاعم مع الخدمة</td>\n",
       "      <td>NaN</td>\n",
       "      <td>الرياض</td>\n",
       "      <td>AR RIYADH...</td>\n",
       "      <td>['Salary', '5500.0']</td>\n",
       "      <td>دوام كامل</td>\n",
       "      <td>0 / 1</td>\n",
       "      <td>20202026400353</td>\n",
       "      <td>0 Years</td>\n",
       "      <td>both</td>\n",
       "    </tr>\n",
       "    <tr>\n",
       "      <th>1466</th>\n",
       "      <td>سكرتير</td>\n",
       "      <td>19/06/1444</td>\n",
       "      <td>['دعم المدير أو الإدارة من خلال كتابة الوثائق ...</td>\n",
       "      <td>['   تدوين الملاحظات، التي يتم إملاؤها، بطريقة...</td>\n",
       "      <td>شركة ملتقى التجار لحاضنات و مسرعات الأعمال</td>\n",
       "      <td>9-2013930</td>\n",
       "      <td>خاص</td>\n",
       "      <td>صغيرة فئة ب</td>\n",
       "      <td>أنشطة حاضنات ومسرعات الأعمال</td>\n",
       "      <td>['Skill data', 'فن التواصل', 'محترف', 'Languag...</td>\n",
       "      <td>مكة المكرمة</td>\n",
       "      <td>JEDDAH...</td>\n",
       "      <td>['Salary', '4000.0']</td>\n",
       "      <td>دوام كامل</td>\n",
       "      <td>0 / 1</td>\n",
       "      <td>20202026399849</td>\n",
       "      <td>2 Years</td>\n",
       "      <td>both</td>\n",
       "    </tr>\n",
       "    <tr>\n",
       "      <th>1467</th>\n",
       "      <td>صيدلي</td>\n",
       "      <td>18/06/1444</td>\n",
       "      <td>['دراسة التركيبات الدوائية للعقاقير والعلاجات ...</td>\n",
       "      <td>['   دراسة مواصفات وتركيبات الادوية والعقاقير ...</td>\n",
       "      <td>شركة تقنية الدواجن والألبان للتجارة</td>\n",
       "      <td>1-2415250</td>\n",
       "      <td>خاص</td>\n",
       "      <td>صغيرة فئة ب</td>\n",
       "      <td>NaN</td>\n",
       "      <td>['Professional certificate \\\\ License data', '...</td>\n",
       "      <td>الرياض</td>\n",
       "      <td>AR RIYADH...</td>\n",
       "      <td>['Salary', '7000.0']</td>\n",
       "      <td>دوام كامل</td>\n",
       "      <td>0 / 1</td>\n",
       "      <td>20202026399061</td>\n",
       "      <td>0 Years</td>\n",
       "      <td>both</td>\n",
       "    </tr>\n",
       "    <tr>\n",
       "      <th>1468</th>\n",
       "      <td>مشغل آلة تشطيب رخام</td>\n",
       "      <td>18/06/1444</td>\n",
       "      <td>['تشغيل آلة تشطيب الرخام وابعادء الأجزاء المتف...</td>\n",
       "      <td>['   تسوية الرخام بواسطة أقراص الألماس الحديدي...</td>\n",
       "      <td>مصنع عبدالرحمن بن محمد بن عبدالعزيز العبدالقاد...</td>\n",
       "      <td>15-1971895</td>\n",
       "      <td>خاص</td>\n",
       "      <td>صغيرة فئة أ</td>\n",
       "      <td>NaN</td>\n",
       "      <td>['Skill data', 'متقن للعمل وشغوف ويرغب بالتطور...</td>\n",
       "      <td>المنطقة الشرقية</td>\n",
       "      <td>AL KHUBAR...</td>\n",
       "      <td>['Salary', '4000.0', 'Benefits', 'اجازة سنوية ...</td>\n",
       "      <td>دوام كامل</td>\n",
       "      <td>0 / 3</td>\n",
       "      <td>20202026398972</td>\n",
       "      <td>0 Years</td>\n",
       "      <td>M</td>\n",
       "    </tr>\n",
       "    <tr>\n",
       "      <th>1469</th>\n",
       "      <td>صيدلي</td>\n",
       "      <td>18/06/1444</td>\n",
       "      <td>['دراسة التركيبات الدوائية للعقاقير والعلاجات ...</td>\n",
       "      <td>['   دراسة مواصفات وتركيبات الادوية والعقاقير ...</td>\n",
       "      <td>شركة تقنية الدواجن والألبان للتجارة</td>\n",
       "      <td>1-2415250</td>\n",
       "      <td>خاص</td>\n",
       "      <td>صغيرة فئة ب</td>\n",
       "      <td>NaN</td>\n",
       "      <td>['Professional certificate \\\\ License data', '...</td>\n",
       "      <td>الرياض</td>\n",
       "      <td>AR RIYADH...</td>\n",
       "      <td>['Salary', '7000.0']</td>\n",
       "      <td>دوام كامل</td>\n",
       "      <td>0 / 1</td>\n",
       "      <td>20202026399061</td>\n",
       "      <td>0 Years</td>\n",
       "      <td>both</td>\n",
       "    </tr>\n",
       "  </tbody>\n",
       "</table>\n",
       "</div>"
      ],
      "text/plain": [
       "                job_title    job_date  \\\n",
       "1460              كيميائي  23/06/1444   \n",
       "1461          مساعد إداري  23/06/1444   \n",
       "1462        سكرتير قانوني  23/06/1444   \n",
       "1463                 بائع  21/06/1444   \n",
       "1464                 بائع  21/06/1444   \n",
       "1465  مهندس تقنية معلومات  19/06/1444   \n",
       "1466               سكرتير  19/06/1444   \n",
       "1467                صيدلي  18/06/1444   \n",
       "1468  مشغل آلة تشطيب رخام  18/06/1444   \n",
       "1469                صيدلي  18/06/1444   \n",
       "\n",
       "                                               job_desc  \\\n",
       "1460  ['دراسة خصائص المواد الكميائية للصناعات الكيمي...   \n",
       "1461  ['متابعة تنفيذ القرارات الادارية الصادرة عن ال...   \n",
       "1462  ['توفير الدعم الإداري للعاملين في المهن القانو...   \n",
       "1463  ['بيع مجموعة من السلع والخدمات للعملاء، وتوفير...   \n",
       "1464  ['بيع مجموعة من السلع والخدمات للعملاء، وتوفير...   \n",
       "1465  ['دراسة احتياجات العميل من الأجهزة الحاسوبية و...   \n",
       "1466  ['دعم المدير أو الإدارة من خلال كتابة الوثائق ...   \n",
       "1467  ['دراسة التركيبات الدوائية للعقاقير والعلاجات ...   \n",
       "1468  ['تشغيل آلة تشطيب الرخام وابعادء الأجزاء المتف...   \n",
       "1469  ['دراسة التركيبات الدوائية للعقاقير والعلاجات ...   \n",
       "\n",
       "                                              job_tasks  \\\n",
       "1460  ['   إعداد برامج تشغيل الأجهزة والمعدات المخبر...   \n",
       "1461  ['   تنفيذ التعليمات الادارية الصادرة عن الرئي...   \n",
       "1462  ['   جمع المراسلات والوثائق الخاصة بملف القضاي...   \n",
       "1463  ['   بيع مجموعة من السلع والخدمات للعملاء.', '...   \n",
       "1464  ['   بيع مجموعة من السلع والخدمات للعملاء.', '...   \n",
       "1465  ['   متابعة وتقييم عملية جمع وتحليل المعطيات و...   \n",
       "1466  ['   تدوين الملاحظات، التي يتم إملاؤها، بطريقة...   \n",
       "1467  ['   دراسة مواصفات وتركيبات الادوية والعقاقير ...   \n",
       "1468  ['   تسوية الرخام بواسطة أقراص الألماس الحديدي...   \n",
       "1469  ['   دراسة مواصفات وتركيبات الادوية والعقاقير ...   \n",
       "\n",
       "                                              comp_name     comp_no comp_type  \\\n",
       "1460                       شركة نواف صالح البطي للتجارة   1-2604723       خاص   \n",
       "1461  شركة النصرة للمحاماة والاستشارات القانونية شرك...  15-1970732       خاص   \n",
       "1462  شركة النصرة للمحاماة والاستشارات القانونية شرك...  15-1970732       خاص   \n",
       "1463          مؤسسة مصلح دخيل الله صالح الثبيتي للتجارة    13-13828       خاص   \n",
       "1464  شركة النجمة الذهبية للتبريد والتكييف شركة شخص ...   8-1977608       خاص   \n",
       "1465                  مطعم الاوراق الخضر لتقديم الوجبات  15-1698448       خاص   \n",
       "1466         شركة ملتقى التجار لحاضنات و مسرعات الأعمال   9-2013930       خاص   \n",
       "1467                شركة تقنية الدواجن والألبان للتجارة   1-2415250       خاص   \n",
       "1468  مصنع عبدالرحمن بن محمد بن عبدالعزيز العبدالقاد...  15-1971895       خاص   \n",
       "1469                شركة تقنية الدواجن والألبان للتجارة   1-2415250       خاص   \n",
       "\n",
       "        comp_size                                       eco_activity  \\\n",
       "1460  صغيرة فئة ب  تجارة الجملة والتجزئه في أنواع أخرى من المركبا...   \n",
       "1461  صغيرة فئة أ       أنشطة الاستشارات في مجال الزكاة وضريبة الدخل   \n",
       "1462  صغيرة فئة أ       أنشطة الاستشارات في مجال الزكاة وضريبة الدخل   \n",
       "1463  صغيرة فئة ب                      البيع بالتجزئة للزهور والورود   \n",
       "1464  صغيرة فئة ب  تركيب انظمة التبريد وتكييف الهواء وصيانتها واص...   \n",
       "1465  صغيرة فئة ب                                  المطاعم مع الخدمة   \n",
       "1466  صغيرة فئة ب                       أنشطة حاضنات ومسرعات الأعمال   \n",
       "1467  صغيرة فئة ب                                                NaN   \n",
       "1468  صغيرة فئة أ                                                NaN   \n",
       "1469  صغيرة فئة ب                                                NaN   \n",
       "\n",
       "                                                 qualif           region  \\\n",
       "1460                                                NaN           الرياض   \n",
       "1461  ['Skill data', 'إدارة برامج التواصل الاجتماعي'...  المنطقة الشرقية   \n",
       "1462  ['Skill data', 'إدارة برامج التواصل الاجتماعي'...  المنطقة الشرقية   \n",
       "1463  ['Skill data', 'استخدام الحاسب ', 'محترف', 'La...      مكة المكرمة   \n",
       "1464                                                NaN  المنطقة الشرقية   \n",
       "1465                                                NaN           الرياض   \n",
       "1466  ['Skill data', 'فن التواصل', 'محترف', 'Languag...      مكة المكرمة   \n",
       "1467  ['Professional certificate \\\\ License data', '...           الرياض   \n",
       "1468  ['Skill data', 'متقن للعمل وشغوف ويرغب بالتطور...  المنطقة الشرقية   \n",
       "1469  ['Professional certificate \\\\ License data', '...           الرياض   \n",
       "\n",
       "              city                                           benefits  \\\n",
       "1460  AR RIYADH...                               ['Salary', '5000.0']   \n",
       "1461  AL KHUBAR...                               ['Salary', '4000.0']   \n",
       "1462  AL KHUBAR...                               ['Salary', '4000.0']   \n",
       "1463  MAKKAH AL...                               ['Salary', '4000.0']   \n",
       "1464   AL HUFUF...                               ['Salary', '4000.0']   \n",
       "1465  AR RIYADH...                               ['Salary', '5500.0']   \n",
       "1466     JEDDAH...                               ['Salary', '4000.0']   \n",
       "1467  AR RIYADH...                               ['Salary', '7000.0']   \n",
       "1468  AL KHUBAR...  ['Salary', '4000.0', 'Benefits', 'اجازة سنوية ...   \n",
       "1469  AR RIYADH...                               ['Salary', '7000.0']   \n",
       "\n",
       "       contract positions     job_post_id    exper gender  \n",
       "1460  دوام كامل     0 / 1  20202026402275  0 Years      F  \n",
       "1461  دوام كامل     0 / 1  20202026402243  2 Years      M  \n",
       "1462  دوام كامل     0 / 1  20202026402227  0 Years      M  \n",
       "1463  دوام كامل     0 / 1  20202026401331  0 Years      M  \n",
       "1464  دوام كامل     0 / 1  20202026401107  2 Years      F  \n",
       "1465  دوام كامل     0 / 1  20202026400353  0 Years   both  \n",
       "1466  دوام كامل     0 / 1  20202026399849  2 Years   both  \n",
       "1467  دوام كامل     0 / 1  20202026399061  0 Years   both  \n",
       "1468  دوام كامل     0 / 3  20202026398972  0 Years      M  \n",
       "1469  دوام كامل     0 / 1  20202026399061  0 Years   both  "
      ]
     },
     "execution_count": 299,
     "metadata": {},
     "output_type": "execute_result"
    }
   ],
   "source": [
    "data.tail(10)  # Preview the last few rows"
   ]
  },
  {
   "cell_type": "code",
   "execution_count": 300,
   "id": "5a00973d",
   "metadata": {},
   "outputs": [
    {
     "data": {
      "text/plain": [
       "(1470, 18)"
      ]
     },
     "execution_count": 300,
     "metadata": {},
     "output_type": "execute_result"
    }
   ],
   "source": [
    "data.shape"
   ]
  },
  {
   "cell_type": "markdown",
   "id": "2259946a",
   "metadata": {},
   "source": [
    "### Data Profiling\n"
   ]
  },
  {
   "cell_type": "code",
   "execution_count": 301,
   "id": "c1d2b728",
   "metadata": {},
   "outputs": [
    {
     "data": {
      "text/plain": [
       "Index(['job_title', 'job_date', 'job_desc', 'job_tasks', 'comp_name',\n",
       "       'comp_no', 'comp_type', 'comp_size', 'eco_activity', 'qualif', 'region',\n",
       "       'city', 'benefits', 'contract', 'positions', 'job_post_id', 'exper',\n",
       "       'gender'],\n",
       "      dtype='object')"
      ]
     },
     "execution_count": 301,
     "metadata": {},
     "output_type": "execute_result"
    }
   ],
   "source": [
    "# Disblay all columns\n",
    "data.columns"
   ]
  },
  {
   "cell_type": "code",
   "execution_count": 244,
   "id": "12974168",
   "metadata": {},
   "outputs": [
    {
     "name": "stdout",
     "output_type": "stream",
     "text": [
      "<class 'pandas.core.frame.DataFrame'>\n",
      "RangeIndex: 1470 entries, 0 to 1469\n",
      "Data columns (total 18 columns):\n",
      " #   Column        Non-Null Count  Dtype \n",
      "---  ------        --------------  ----- \n",
      " 0   job_title     1470 non-null   object\n",
      " 1   job_date      1470 non-null   object\n",
      " 2   job_desc      1470 non-null   object\n",
      " 3   job_tasks     1470 non-null   object\n",
      " 4   comp_name     1470 non-null   object\n",
      " 5   comp_no       1470 non-null   object\n",
      " 6   comp_type     1470 non-null   object\n",
      " 7   comp_size     1456 non-null   object\n",
      " 8   eco_activity  1380 non-null   object\n",
      " 9   qualif        780 non-null    object\n",
      " 10  region        1470 non-null   object\n",
      " 11  city          1470 non-null   object\n",
      " 12  benefits      1470 non-null   object\n",
      " 13  contract      1470 non-null   object\n",
      " 14  positions     1470 non-null   object\n",
      " 15  job_post_id   1470 non-null   int64 \n",
      " 16  exper         1470 non-null   object\n",
      " 17  gender        1470 non-null   object\n",
      "dtypes: int64(1), object(17)\n",
      "memory usage: 206.8+ KB\n"
     ]
    }
   ],
   "source": [
    "# Disblay all information available\n",
    "data.info()"
   ]
  },
  {
   "cell_type": "code",
   "execution_count": 245,
   "id": "4c5a80d1",
   "metadata": {},
   "outputs": [
    {
     "data": {
      "text/html": [
       "<div>\n",
       "<style scoped>\n",
       "    .dataframe tbody tr th:only-of-type {\n",
       "        vertical-align: middle;\n",
       "    }\n",
       "\n",
       "    .dataframe tbody tr th {\n",
       "        vertical-align: top;\n",
       "    }\n",
       "\n",
       "    .dataframe thead th {\n",
       "        text-align: right;\n",
       "    }\n",
       "</style>\n",
       "<table border=\"1\" class=\"dataframe\">\n",
       "  <thead>\n",
       "    <tr style=\"text-align: right;\">\n",
       "      <th></th>\n",
       "      <th>job_title</th>\n",
       "      <th>job_date</th>\n",
       "      <th>job_desc</th>\n",
       "      <th>job_tasks</th>\n",
       "      <th>comp_name</th>\n",
       "      <th>comp_no</th>\n",
       "      <th>comp_type</th>\n",
       "      <th>comp_size</th>\n",
       "      <th>eco_activity</th>\n",
       "      <th>qualif</th>\n",
       "      <th>region</th>\n",
       "      <th>city</th>\n",
       "      <th>benefits</th>\n",
       "      <th>contract</th>\n",
       "      <th>positions</th>\n",
       "      <th>exper</th>\n",
       "      <th>gender</th>\n",
       "    </tr>\n",
       "  </thead>\n",
       "  <tbody>\n",
       "    <tr>\n",
       "      <th>count</th>\n",
       "      <td>1470</td>\n",
       "      <td>1470</td>\n",
       "      <td>1470</td>\n",
       "      <td>1470</td>\n",
       "      <td>1470</td>\n",
       "      <td>1470</td>\n",
       "      <td>1470</td>\n",
       "      <td>1456</td>\n",
       "      <td>1380</td>\n",
       "      <td>780</td>\n",
       "      <td>1470</td>\n",
       "      <td>1470</td>\n",
       "      <td>1470</td>\n",
       "      <td>1470</td>\n",
       "      <td>1470</td>\n",
       "      <td>1470</td>\n",
       "      <td>1470</td>\n",
       "    </tr>\n",
       "    <tr>\n",
       "      <th>unique</th>\n",
       "      <td>324</td>\n",
       "      <td>92</td>\n",
       "      <td>438</td>\n",
       "      <td>444</td>\n",
       "      <td>886</td>\n",
       "      <td>894</td>\n",
       "      <td>2</td>\n",
       "      <td>7</td>\n",
       "      <td>361</td>\n",
       "      <td>615</td>\n",
       "      <td>14</td>\n",
       "      <td>114</td>\n",
       "      <td>393</td>\n",
       "      <td>2</td>\n",
       "      <td>25</td>\n",
       "      <td>6</td>\n",
       "      <td>3</td>\n",
       "    </tr>\n",
       "    <tr>\n",
       "      <th>top</th>\n",
       "      <td>بائع</td>\n",
       "      <td>09/06/1444</td>\n",
       "      <td>['بيع مجموعة من السلع والخدمات للعملاء، وتوفير...</td>\n",
       "      <td>['   بيع مجموعة من السلع والخدمات للعملاء.', '...</td>\n",
       "      <td>شركه العرض المتقن للخدمات التجارية شركة مساهمة...</td>\n",
       "      <td>1-169123</td>\n",
       "      <td>خاص</td>\n",
       "      <td>صغيرة فئة ب</td>\n",
       "      <td>المطاعم مع الخدمة</td>\n",
       "      <td>['Language data', 'الانجليزية', 'متوسط']</td>\n",
       "      <td>الرياض</td>\n",
       "      <td>AR RIYADH...</td>\n",
       "      <td>['Salary', '4000.0']</td>\n",
       "      <td>دوام كامل</td>\n",
       "      <td>0 / 1</td>\n",
       "      <td>0 Years</td>\n",
       "      <td>both</td>\n",
       "    </tr>\n",
       "    <tr>\n",
       "      <th>freq</th>\n",
       "      <td>98</td>\n",
       "      <td>47</td>\n",
       "      <td>93</td>\n",
       "      <td>90</td>\n",
       "      <td>16</td>\n",
       "      <td>16</td>\n",
       "      <td>1465</td>\n",
       "      <td>635</td>\n",
       "      <td>65</td>\n",
       "      <td>28</td>\n",
       "      <td>622</td>\n",
       "      <td>523</td>\n",
       "      <td>449</td>\n",
       "      <td>1448</td>\n",
       "      <td>853</td>\n",
       "      <td>833</td>\n",
       "      <td>587</td>\n",
       "    </tr>\n",
       "  </tbody>\n",
       "</table>\n",
       "</div>"
      ],
      "text/plain": [
       "       job_title    job_date  \\\n",
       "count       1470        1470   \n",
       "unique       324          92   \n",
       "top         بائع  09/06/1444   \n",
       "freq          98          47   \n",
       "\n",
       "                                                 job_desc  \\\n",
       "count                                                1470   \n",
       "unique                                                438   \n",
       "top     ['بيع مجموعة من السلع والخدمات للعملاء، وتوفير...   \n",
       "freq                                                   93   \n",
       "\n",
       "                                                job_tasks  \\\n",
       "count                                                1470   \n",
       "unique                                                444   \n",
       "top     ['   بيع مجموعة من السلع والخدمات للعملاء.', '...   \n",
       "freq                                                   90   \n",
       "\n",
       "                                                comp_name   comp_no comp_type  \\\n",
       "count                                                1470      1470      1470   \n",
       "unique                                                886       894         2   \n",
       "top     شركه العرض المتقن للخدمات التجارية شركة مساهمة...  1-169123       خاص   \n",
       "freq                                                   16        16      1465   \n",
       "\n",
       "          comp_size       eco_activity  \\\n",
       "count          1456               1380   \n",
       "unique            7                361   \n",
       "top     صغيرة فئة ب  المطاعم مع الخدمة   \n",
       "freq            635                 65   \n",
       "\n",
       "                                          qualif  region          city  \\\n",
       "count                                        780    1470          1470   \n",
       "unique                                       615      14           114   \n",
       "top     ['Language data', 'الانجليزية', 'متوسط']  الرياض  AR RIYADH...   \n",
       "freq                                          28     622           523   \n",
       "\n",
       "                    benefits   contract positions    exper gender  \n",
       "count                   1470       1470      1470     1470   1470  \n",
       "unique                   393          2        25        6      3  \n",
       "top     ['Salary', '4000.0']  دوام كامل     0 / 1  0 Years   both  \n",
       "freq                     449       1448       853      833    587  "
      ]
     },
     "execution_count": 245,
     "metadata": {},
     "output_type": "execute_result"
    }
   ],
   "source": [
    "# Display summary statistics for categorical columns\n",
    "data.describe(include=\"object\")"
   ]
  },
  {
   "cell_type": "markdown",
   "id": "a8914bfd",
   "metadata": {},
   "source": [
    "Unique values are: 2 comp_type - 7 comp_size - 2 contract - 6 exper - 3 gender"
   ]
  },
  {
   "cell_type": "code",
   "execution_count": null,
   "id": "0299a5d6",
   "metadata": {},
   "outputs": [
    {
     "data": {
      "text/plain": [
       "job_title\n",
       "بائع                          98\n",
       "محاسب                         89\n",
       "أخصائي تسويق                  54\n",
       "مساعد إداري                   45\n",
       "موظف استقبال                  45\n",
       "                              ..\n",
       "معلم ثانوي لغة أجنبية          1\n",
       "معلم ابتدائي علوم ورياضيات     1\n",
       "وكيل مدرسة                     1\n",
       "أخصائي استمرارية الأعمال       1\n",
       "مشغل آلة تشطيب رخام            1\n",
       "Name: count, Length: 324, dtype: int64"
      ]
     },
     "execution_count": 246,
     "metadata": {},
     "output_type": "execute_result"
    }
   ],
   "source": [
    "# Value counts for key categorical features\n",
    "data['job_title'].value_counts()"
   ]
  },
  {
   "cell_type": "code",
   "execution_count": 247,
   "id": "3b0dd532",
   "metadata": {},
   "outputs": [
    {
     "data": {
      "text/plain": [
       "job_date\n",
       "09/06/1444      47\n",
       "Publish date    47\n",
       "22/04/1444      43\n",
       "25/05/1444      39\n",
       "20/04/1444      39\n",
       "                ..\n",
       "16/03/1444       1\n",
       "12/03/1444       1\n",
       "07/03/1444       1\n",
       "05/03/1444       1\n",
       "27/06/1444       1\n",
       "Name: count, Length: 92, dtype: int64"
      ]
     },
     "execution_count": 247,
     "metadata": {},
     "output_type": "execute_result"
    }
   ],
   "source": [
    "data['job_date'].value_counts()"
   ]
  },
  {
   "cell_type": "code",
   "execution_count": 248,
   "id": "f2280651",
   "metadata": {},
   "outputs": [
    {
     "data": {
      "text/plain": [
       "job_desc\n",
       "['بيع مجموعة من السلع والخدمات للعملاء، وتوفير المعلومات المتعلقة بالمنتجات واستخداماتها وأسعارها، وتولي أمور الدفع وتلقي المدفوعات من العملاء.']                                                                                                93\n",
       "['إعداد وتنظيم مستندات الصرف ومتابعة تحصيل الإيرادات وتوثيقها وتحليلها، وإعداد القيود المحاسبية وتسجيل العمليات المالية بالسجلات وتدقيق حسابات البنوك وإعداد التسويات اللازمة وإعداد التقارير والوثائق المتعلقة بالنفقات والإيرادات وحفظها.']    82\n",
       "['تحديد الأهداف وتطوير السياسات التسويقية للسلع والخدمات، والإشراف على تنفيذها وتقييمها، وإجراء اختبارات السوق وإعداد الوثائق والتقارير المتخصصة والمتعلقة في مجال التسويق وعرضها وحفظها.']                                                      45\n",
       "['متابعة تنفيذ القرارات الادارية الصادرة عن الرئيس المباشر وتنظيم أعمال البريد والمواعيد اليومية، وإنجاز الأعمال الادارية المتعلقة بسير العمل وتنسيق وتنظيم اجتماعات الرئيس المباشر']                                                            43\n",
       "['استقبال الزوار والعملاء وتحديد مطالبهم وتوجيههم إلى المرجع المختص واستقبال المكالمات الهاتفية والرد على الاستفسارات او التحويل إلى المرجع المختص وحفظ السجلات الخاصة بالزوار']                                                                 42\n",
       "                                                                                                                                                                                                                                                 ..\n",
       "['أداء الواجبات الفنية المتعلقة بإنشاء الطرق،وجمع العينات من تربة المسار والمواد الإنشائية وإرسالها للمختبر، ومطابقة المواصفات، وتقدير كميات المواد والعمالة اللازمة .']                                                                          1\n",
       "['تدريس طلاب مرحلة التعليم الابتدائي عدة موضوعات، بما في ذلك القراءة والكتابة والرياضيات، ووضع خطط الدروس، وإعطاء التعليمات الفردية والجماعية.']                                                                                                  1\n",
       "['مساعدة الأطباء والممرضين في رعاية المرضى في المستشفيات وتطبيق إجراءات وتعليمات السلامة والصحة المهنيةوالعامة']                                                                                                                                  1\n",
       "['فحص واختبار سلوك المواد تحت ظروف مختلفة، وتقديم التوصيات حول الاستخدامات العملية للمواد والبحث عن البدائل']                                                                                                                                     1\n",
       "['تشغيل آلة تشطيب الرخام وابعادء الأجزاء المتفتفة وصقل وتنعيم  وجلي الرخام وتطبيق أسس وتعليمات السلامة والصحة المهنية']                                                                                                                           1\n",
       "Name: count, Length: 438, dtype: int64"
      ]
     },
     "execution_count": 248,
     "metadata": {},
     "output_type": "execute_result"
    }
   ],
   "source": [
    "data['job_desc'].value_counts()"
   ]
  },
  {
   "cell_type": "code",
   "execution_count": 249,
   "id": "b90fea3c",
   "metadata": {},
   "outputs": [
    {
     "data": {
      "text/plain": [
       "job_tasks\n",
       "['   بيع مجموعة من السلع والخدمات للعملاء.', '  توفير المعلومات المتعلقة بالمنتجات، والاستخدامات، والأسعار.', '  مراقبة مستويات المخزون والحفاظ على ترتيب المتجر، وإصدار طلبات لشراء المنتجات، والتعامل مع المنتجات الواردة.', '  تولي أمور الدفع وتلقي المدفوعات من العملاء، ومعالجة طلبات استبدال المنتجات، والمرتجعات وفقاً للسياسة المتبعة.', '  ', '  ']                                                                                                                                                                                                                                                                                                                                                                                   90\n",
       "['   تدقيق المطالبات المالية والتأكد من اكتمال شروطها القانونية والمالية، وإعداد وتنظيم وتوثيق مستندات الصرف ومتابعة تدقيقها وإجازتها للصرف من الجهات الرقابية المعتمدة.', '  مراقبة النفقات الجارية والرأسمالية بحسب الموقف المالي الشهري لبنود الموازنة، وإعداد الموقف المالي والخلاصات الشهرية وإعداد وتنظيم الحسابات الختامية السنوية.', '  إعداد القيود المحاسبية وتسجيل العمليات المالية بالسجلات وتدقيق حسابات البنوك وإعداد التسويات اللازمة مع كشوف المطابقة الشهرية.', '  تطوير أساليب وإجراءات المحاسبة ومواكبة التطور العلمي والتقني في مجال المحاسبة.', '  إعداد الوثائق والتقارير المتخصصة في مجال محاسبة النفقات والإيرادات وحفظها في قاعدة البيانات الخاصة بذلك.', '  ']                                                        81\n",
       "['   تحديد الأهداف العامة والفرعية للتسويق وتطوير السياسات والخطط والبرامج والتسهيلات التسويقية، وتحليل دورة حياة المنتج وتحديد أسباب نجاح أو فشل تسويق المنتجات، وتحليل أسعار المنافسين، وتطوير سياسات الأسعار.', '  تحديد برامج الترويج، واختيار قنوات التوزيع وتقييم فاعلية الدعاية والإعلان.', '  وضع برنامج زمني لتنفيذ السياسات التسويقية، ومتابعة إجراءات تنفيذها وتقييم النتائج.', '  إجراء اختبارات للمنتجات الجديدة قبل طرحها في الأسواق بشكلها النهائي واستخدام برامج حاسوبية خاصة في مجال اختبارات السوق وبحسب متطلبات العمل.', '  إعداد الوثائق والتقارير المتخصصة والمتعلقة بالتسويق وتقديم التوصيات المناسبة والحلول الملائمة وعرضها وتوضيحها وحفظها في قاعدة البيانات الخاصة بها وفقاً للسياسات والإجراءات المعتمدة.', '  ']    44\n",
       "['   استقبال الزوار والعملاء والترحيب بهم وتحديد مطالبهم وتزويدهم بالمعلومات المطلوبة، وإعلام المرجع المعني عن المراجعين والعملاء وارشادهم اليه', '  استقبال المكالمات الهاتفية والرد على الاستفسارات او التحويل إلى المرجع المختص', '  إجراء الاتصالات الداخلية للحصول على المعلومات', '  ترتيب مواعيد المقابلات ,تسجيل اسماء المراجعين والعملاء في السجلات الخاصة بذلك', '  الالتزام التام بالأدلة الإجرائية وبالسياسات والإجراءات المنظمة والتقيد بها.', '  ']                                                                                                                                                                                                                                                                               44\n",
       "['   تنفيذ التعليمات الادارية الصادرة عن الرئيس المباشر ومتابعة تنفيذ القرارات الادارية الصادرة عنه', '  فتح وفرز البريد الورقي وتوزيعه على المعنيين وفتح البريد الالكتروني والرد عليه بحسب توجيهات الرئيس المباشر', '  انجاز أعمال الطباعة والرد على الاستفسارات والمكالمات الهاتفية وتنظيم الملفات الخاصة', '  حفظ المعاملات والعناية بالملفات بأسلوب سلس يسهل عملية الرجوع إليها', '  تنسيق وتنظيم اجتماعات الرئيس المباشر واجتماعات موظفي الوحدة التنظيمية والمشاركة في هذه الاجتماعات و تدوين وتوثيق محاضرها، وطباعة وتوزيع محاضر الاجتماعات الخاصة بالرئيس المباشر للأطراف الأخرى المشاركة في الاجتماع.', '  ']                                                                                                                           42\n",
       "                                                                                                                                                                                                                                                                                                                                                                                                                                                                                                                                                                                                                                                                                                                                                ..\n",
       "['   1-تصميم محتوى وادارة السوشيال ميديا', '2-عمل حملات اعلانية', '3-التصوير بطرق احترافية', '4-الابتكار والتطوير في وسائل التسويق']                                                                                                                                                                                                                                                                                                                                                                                                                                                                                                                                                                                                             1\n",
       "['كتابه الخطابات', 'تنسيق المواعيد', 'التواصل بين الادارات', 'متابعه المهام ومدى انجازها', 'جمع المعلومات وتحليلها', 'ترتيب وارشفه المراسلات ', 'ومايسند اليها من اعمال اخرى']                                                                                                                                                                                                                                                                                                                                                                                                                                                                                                                                                                   1\n",
       "['   جمع المراسلات والوثائق الخاصة بملف القضايا، وأرشفتها، وحفظ الأرشيف حسب سياسات الاستبقاء، وتنظيم المكتبات القانونية والحفاظ عليها.', '  مساعدة المحامين والمهنيين القانونيين، والبحث في المعلومات، مثل المنشورات القانونية، والأنظمة وقرارات المحكمة المتعلقة بالقضايا المعلقة.', '  إدارة مراسلات الإجراءات القانونية والتعاقد والنزاعات القانونية بما يتوافق مع السياسات والإجراءات المنظمة.', '  تنظيف المعدات وأداء الصيانة الأساسية، والإبلاغ عن الأعطال لفنيي الصيانة أو الميكانيكيين، والاحتفاظ بسجل للأعمال المنجزة.', '  إعداد وتقديم تقارير العمل وتوثيقها وحفظها.', '  ']                                                                                                                                                         1\n",
       "['يوقم بجميع مهام  الوظيفية بإستخدام برنامج حسابي خاص بالمؤسسة  وإدارة جميع المنظومات بالبرنامج المحاسبة']                                                                                                                                                                                                                                                                                                                                                                                                                                                                                                                                                                                                                                       1\n",
       "['   تسوية الرخام بواسطة أقراص الألماس الحديدية', '  إزالة الخدوش و إضفاء اللمعة الطبيعية للرخــام', '  إجراء الترميمات اللازمة للأجزاء المتفتتة، و تلميع الرخام من خلال فراشة تلميع إما يدوية أو آلية', '', '  تنظيف المعدات وأداء الصيانة الأساسية، والإبلاغ عن الأعطال لفنيي الصيانة أو الميكانيكيين، والاحتفاظ بسجل للأعمال المنجزة.', '  مراقبة تشغيل الآلات للكشف عن العيوب في أجزائها أو أعطال فيها، وضبط المعدات عند الضرورة', '  ']                                                                                                                                                                                                                                                                                                     1\n",
       "Name: count, Length: 444, dtype: int64"
      ]
     },
     "execution_count": 249,
     "metadata": {},
     "output_type": "execute_result"
    }
   ],
   "source": [
    "data['job_tasks'].value_counts()"
   ]
  },
  {
   "cell_type": "code",
   "execution_count": 250,
   "id": "e668f766",
   "metadata": {},
   "outputs": [
    {
     "data": {
      "text/plain": [
       "comp_name\n",
       "شركه العرض المتقن للخدمات التجارية شركة مساهمة سعودية مقفلة    16\n",
       "شركة الخدمات الاستشارية السعودية للاستشارات الهندسية           11\n",
       "شركة مدارس موسوعة العلوم الاهلية                               10\n",
       "مؤسسة سليمان عبدالرحمن النمله للمقاولات                         9\n",
       "شركة الحبيب للتجارة والتعهدات التجارية المحدودة                 9\n",
       "                                                               ..\n",
       "مكتب الإبن الحكيم للاستشارات التعليمية والتربوية                1\n",
       "أبو سلطان للمقاولات                                             1\n",
       "موسسة بيكو للقرطاسية                                            1\n",
       "شركة بتوك للمحروقات شركة شخص واحد                               1\n",
       "مصنع عبدالرحمن بن محمد بن عبدالعزيز العبدالقادر للرخام          1\n",
       "Name: count, Length: 886, dtype: int64"
      ]
     },
     "execution_count": 250,
     "metadata": {},
     "output_type": "execute_result"
    }
   ],
   "source": [
    "data['comp_name'].value_counts()"
   ]
  },
  {
   "cell_type": "code",
   "execution_count": 251,
   "id": "178808b7",
   "metadata": {},
   "outputs": [
    {
     "data": {
      "text/plain": [
       "comp_no\n",
       "1-169123      16\n",
       "1-1264988     11\n",
       "1-383334      10\n",
       "14-540         9\n",
       "9-170461       9\n",
       "              ..\n",
       "12-1615763     1\n",
       "8-1979979      1\n",
       "9-1623601      1\n",
       "12-1959805     1\n",
       "15-1971895     1\n",
       "Name: count, Length: 894, dtype: int64"
      ]
     },
     "execution_count": 251,
     "metadata": {},
     "output_type": "execute_result"
    }
   ],
   "source": [
    "data['comp_no'].value_counts()"
   ]
  },
  {
   "cell_type": "code",
   "execution_count": 252,
   "id": "98fe2111",
   "metadata": {},
   "outputs": [
    {
     "data": {
      "text/plain": [
       "comp_type\n",
       "خاص           1465\n",
       "شبه حكومية       5\n",
       "Name: count, dtype: int64"
      ]
     },
     "execution_count": 252,
     "metadata": {},
     "output_type": "execute_result"
    }
   ],
   "source": [
    "data['comp_type'].value_counts()"
   ]
  },
  {
   "cell_type": "code",
   "execution_count": 253,
   "id": "5a576f7e",
   "metadata": {},
   "outputs": [
    {
     "data": {
      "text/plain": [
       "comp_size\n",
       "صغيرة فئة ب     635\n",
       "صغيرة فئة أ     325\n",
       "متوسطة فئة أ    162\n",
       "متوسطة فئة ب    134\n",
       "كبيرة            78\n",
       "متوسطة فئة ج     76\n",
       "عملاقة           46\n",
       "Name: count, dtype: int64"
      ]
     },
     "execution_count": 253,
     "metadata": {},
     "output_type": "execute_result"
    }
   ],
   "source": [
    "data['comp_size'].value_counts()"
   ]
  },
  {
   "cell_type": "code",
   "execution_count": 254,
   "id": "6f0a94cb",
   "metadata": {},
   "outputs": [
    {
     "data": {
      "text/plain": [
       "eco_activity\n",
       "المطاعم مع الخدمة                                                        65\n",
       "الخدمات الطبية بالمصحات المتخصصة ومراكز إعادة التأهيل والصحة الوقائية    46\n",
       "أنشطة خدمات صيانة المباني                                                44\n",
       "أنشطة الاستشارات الهندسية والمعمارية                                     27\n",
       "ترميمات المباني السكنية والغير سكنية                                     24\n",
       "                                                                         ..\n",
       "صناعة حديد الزهر ما في ذلك مسبوكات حديد الصلب والزهر                      1\n",
       "تركيب وتمديد انابيب تكييف الهواء وصيانتها واصلاحها                        1\n",
       "رعاية وصيانة منتزهات الطرق السريعة                                        1\n",
       "نقل السوائل او الغازات السائلة                                            1\n",
       "البيع بالتجزئة للادوات الكهربائية وتمديداتها                              1\n",
       "Name: count, Length: 361, dtype: int64"
      ]
     },
     "execution_count": 254,
     "metadata": {},
     "output_type": "execute_result"
    }
   ],
   "source": [
    "data['eco_activity'].value_counts()"
   ]
  },
  {
   "cell_type": "code",
   "execution_count": 255,
   "id": "be8412be",
   "metadata": {},
   "outputs": [
    {
     "data": {
      "text/plain": [
       "qualif\n",
       "['Language data', 'الانجليزية', 'متوسط']                                                                                                                                                                                                                                      28\n",
       "['Language data', 'الانجليزية', 'محترف']                                                                                                                                                                                                                                      11\n",
       "['Language data', 'اللغة الانجليزية', 'محترف']                                                                                                                                                                                                                                10\n",
       "['Language data', 'العربية', 'محترف', 'الانجليزية', 'متوسط']                                                                                                                                                                                                                  10\n",
       "['Language data', 'اللغة الانجليزية', 'متوسط']                                                                                                                                                                                                                                 7\n",
       "                                                                                                                                                                                                                                                                              ..\n",
       "['Skill data', 'المعرفة التامة بنظام العمل ولوائحه ', 'محترف', 'Language data', 'الإنجليزية', 'متوسط']                                                                                                                                                                         1\n",
       "['Skill data', 'تعبئة', 'محترف', 'Language data', 'العربية', 'محترف']                                                                                                                                                                                                          1\n",
       "['Skill data', 'فهم كامل في السلامة والصحة المهنية والبيئية ', 'محترف', 'خبره في مجال المصانع الغذائية FMCG', 'متوسط', 'Language data', 'الانجليزية ', 'محترف', 'Professional certificate \\\\ License data', 'NEBOSH ', 'مفيد', 'OHSAS', 'ضروري', 'ISO 14001/2004', 'مفيد']     1\n",
       "['Skill data', 'اللباقة ', 'محترف', 'التواصل ', 'محترف', 'التعامل مع شكاوى المرضى ', 'محترف', 'Language data', 'انكليزي ', 'متوسط']                                                                                                                                            1\n",
       "['Skill data', 'متقن للعمل وشغوف ويرغب بالتطور', 'متوسط']                                                                                                                                                                                                                      1\n",
       "Name: count, Length: 615, dtype: int64"
      ]
     },
     "execution_count": 255,
     "metadata": {},
     "output_type": "execute_result"
    }
   ],
   "source": [
    "data['qualif'].value_counts()"
   ]
  },
  {
   "cell_type": "code",
   "execution_count": 256,
   "id": "057d2d10",
   "metadata": {},
   "outputs": [
    {
     "data": {
      "text/plain": [
       "region\n",
       "الرياض             622\n",
       "مكة المكرمة        369\n",
       "المنطقة الشرقية    219\n",
       "المدينة المنورة     86\n",
       "الباحة              46\n",
       "عسير                42\n",
       "القصيم              32\n",
       "حائل                18\n",
       "تبوك                11\n",
       "نجران                8\n",
       "جازان                7\n",
       "الجوف                5\n",
       "الحدود الشمالية      4\n",
       "اخرى                 1\n",
       "Name: count, dtype: int64"
      ]
     },
     "execution_count": 256,
     "metadata": {},
     "output_type": "execute_result"
    }
   ],
   "source": [
    "data['region'].value_counts()"
   ]
  },
  {
   "cell_type": "code",
   "execution_count": 257,
   "id": "bf615d74",
   "metadata": {},
   "outputs": [
    {
     "data": {
      "text/plain": [
       "city\n",
       "AR RIYADH...    523\n",
       "JEDDAH...       245\n",
       "AD DAMMAM...     78\n",
       "MAKKAH AL...     72\n",
       "AL KHUBAR...     54\n",
       "               ... \n",
       "AN NAQ'A...       1\n",
       "AS SAFFAN...      1\n",
       "AL ATAWLA...      1\n",
       "AL HAFAIR...      1\n",
       "AL KHAFJI...      1\n",
       "Name: count, Length: 114, dtype: int64"
      ]
     },
     "execution_count": 257,
     "metadata": {},
     "output_type": "execute_result"
    }
   ],
   "source": [
    "data['city'].value_counts()"
   ]
  },
  {
   "cell_type": "code",
   "execution_count": 258,
   "id": "8b042682",
   "metadata": {},
   "outputs": [
    {
     "data": {
      "text/plain": [
       "benefits\n",
       "['Salary', '4000.0']                                                 449\n",
       "['Salary', '5000.0']                                                 148\n",
       "['Salary', '6000.0']                                                  86\n",
       "['Salary', '4500.0']                                                  85\n",
       "['Salary', '7000.0']                                                  66\n",
       "                                                                    ... \n",
       "['Salary', '4600.0']                                                   1\n",
       "['Salary', '10000.0', 'Benefits', 'راتب أساسي فقط']                    1\n",
       "['Salary', '5000.0', 'Benefits', 'عمولة مستهدفة من ارباح الفرع ']      1\n",
       "['Salary', '5500.0', 'Benefits', 'راتب أساسي بدون بدلات']              1\n",
       "['Salary', '4000.0', 'Benefits', 'اجازة سنوية 30 يوم ']                1\n",
       "Name: count, Length: 393, dtype: int64"
      ]
     },
     "execution_count": 258,
     "metadata": {},
     "output_type": "execute_result"
    }
   ],
   "source": [
    "data['benefits'].value_counts()"
   ]
  },
  {
   "cell_type": "code",
   "execution_count": 259,
   "id": "c0d3064e",
   "metadata": {},
   "outputs": [
    {
     "data": {
      "text/plain": [
       "contract\n",
       "دوام كامل     1448\n",
       "عمل عن بعد      22\n",
       "Name: count, dtype: int64"
      ]
     },
     "execution_count": 259,
     "metadata": {},
     "output_type": "execute_result"
    }
   ],
   "source": [
    "data['contract'].value_counts()"
   ]
  },
  {
   "cell_type": "code",
   "execution_count": 260,
   "id": "52402183",
   "metadata": {},
   "outputs": [
    {
     "data": {
      "text/plain": [
       "positions\n",
       "0 / 1     853\n",
       "0 / 2     258\n",
       "0 / 3     107\n",
       "0 / 4      62\n",
       "0 / 5      57\n",
       "0 / 10     29\n",
       "0 / 6      24\n",
       "0 / 50     20\n",
       "0 / 20     10\n",
       "1 / 2      10\n",
       "0 / 30      6\n",
       "1 / 1       6\n",
       "0 / 7       5\n",
       "0 / 9       4\n",
       "0 / 15      3\n",
       "1 / 5       3\n",
       "0 / 8       3\n",
       "2 / 2       2\n",
       "1 / 3       2\n",
       "0 / 25      1\n",
       "0 / 46      1\n",
       "1 / 4       1\n",
       "2 / 4       1\n",
       "5 / 4       1\n",
       "3 / 9       1\n",
       "Name: count, dtype: int64"
      ]
     },
     "execution_count": 260,
     "metadata": {},
     "output_type": "execute_result"
    }
   ],
   "source": [
    "data['positions'].value_counts()"
   ]
  },
  {
   "cell_type": "code",
   "execution_count": 261,
   "id": "13775362",
   "metadata": {},
   "outputs": [
    {
     "data": {
      "text/plain": [
       "exper\n",
       "0 Years     833\n",
       "2 Years     436\n",
       "4 Years     153\n",
       "7 Years      30\n",
       "10 Years     15\n",
       "12 Years      3\n",
       "Name: count, dtype: int64"
      ]
     },
     "execution_count": 261,
     "metadata": {},
     "output_type": "execute_result"
    }
   ],
   "source": [
    "data['exper'].value_counts()"
   ]
  },
  {
   "cell_type": "code",
   "execution_count": 262,
   "id": "490ffd22",
   "metadata": {},
   "outputs": [
    {
     "data": {
      "text/plain": [
       "gender\n",
       "both    587\n",
       "M       480\n",
       "F       403\n",
       "Name: count, dtype: int64"
      ]
     },
     "execution_count": 262,
     "metadata": {},
     "output_type": "execute_result"
    }
   ],
   "source": [
    "data['gender'].value_counts()"
   ]
  },
  {
   "cell_type": "code",
   "execution_count": 263,
   "id": "4870d1a4",
   "metadata": {},
   "outputs": [
    {
     "data": {
      "text/html": [
       "<div>\n",
       "<style scoped>\n",
       "    .dataframe tbody tr th:only-of-type {\n",
       "        vertical-align: middle;\n",
       "    }\n",
       "\n",
       "    .dataframe tbody tr th {\n",
       "        vertical-align: top;\n",
       "    }\n",
       "\n",
       "    .dataframe thead th {\n",
       "        text-align: right;\n",
       "    }\n",
       "</style>\n",
       "<table border=\"1\" class=\"dataframe\">\n",
       "  <thead>\n",
       "    <tr style=\"text-align: right;\">\n",
       "      <th></th>\n",
       "      <th>job_post_id</th>\n",
       "    </tr>\n",
       "  </thead>\n",
       "  <tbody>\n",
       "    <tr>\n",
       "      <th>count</th>\n",
       "      <td>1.470000e+03</td>\n",
       "    </tr>\n",
       "    <tr>\n",
       "      <th>mean</th>\n",
       "      <td>2.020203e+13</td>\n",
       "    </tr>\n",
       "    <tr>\n",
       "      <th>std</th>\n",
       "      <td>5.863941e+04</td>\n",
       "    </tr>\n",
       "    <tr>\n",
       "      <th>min</th>\n",
       "      <td>2.020203e+13</td>\n",
       "    </tr>\n",
       "    <tr>\n",
       "      <th>25%</th>\n",
       "      <td>2.020203e+13</td>\n",
       "    </tr>\n",
       "    <tr>\n",
       "      <th>50%</th>\n",
       "      <td>2.020203e+13</td>\n",
       "    </tr>\n",
       "    <tr>\n",
       "      <th>75%</th>\n",
       "      <td>2.020203e+13</td>\n",
       "    </tr>\n",
       "    <tr>\n",
       "      <th>max</th>\n",
       "      <td>2.020203e+13</td>\n",
       "    </tr>\n",
       "  </tbody>\n",
       "</table>\n",
       "</div>"
      ],
      "text/plain": [
       "        job_post_id\n",
       "count  1.470000e+03\n",
       "mean   2.020203e+13\n",
       "std    5.863941e+04\n",
       "min    2.020203e+13\n",
       "25%    2.020203e+13\n",
       "50%    2.020203e+13\n",
       "75%    2.020203e+13\n",
       "max    2.020203e+13"
      ]
     },
     "execution_count": 263,
     "metadata": {},
     "output_type": "execute_result"
    }
   ],
   "source": [
    "# Display summary statistics for numerical columns\n",
    "data.describe(include=\"number\")"
   ]
  },
  {
   "cell_type": "code",
   "execution_count": 264,
   "id": "98ab1064",
   "metadata": {},
   "outputs": [
    {
     "data": {
      "text/plain": [
       "job_post_id\n",
       "20202026399061    3\n",
       "20202026396963    3\n",
       "20202026378973    3\n",
       "20202026375465    3\n",
       "20202026375503    3\n",
       "                 ..\n",
       "20202026231488    1\n",
       "20202026231494    1\n",
       "20202026231523    1\n",
       "20202026231538    1\n",
       "20202026398972    1\n",
       "Name: count, Length: 1381, dtype: int64"
      ]
     },
     "execution_count": 264,
     "metadata": {},
     "output_type": "execute_result"
    }
   ],
   "source": [
    "data['job_post_id'].value_counts()"
   ]
  },
  {
   "cell_type": "code",
   "execution_count": 265,
   "id": "6f455298",
   "metadata": {},
   "outputs": [
    {
     "data": {
      "text/plain": [
       "job_title       object\n",
       "job_date        object\n",
       "job_desc        object\n",
       "job_tasks       object\n",
       "comp_name       object\n",
       "comp_no         object\n",
       "comp_type       object\n",
       "comp_size       object\n",
       "eco_activity    object\n",
       "qualif          object\n",
       "region          object\n",
       "city            object\n",
       "benefits        object\n",
       "contract        object\n",
       "positions       object\n",
       "job_post_id      int64\n",
       "exper           object\n",
       "gender          object\n",
       "dtype: object"
      ]
     },
     "execution_count": 265,
     "metadata": {},
     "output_type": "execute_result"
    }
   ],
   "source": [
    "data.dtypes  # للتحقق من نوع البيانات"
   ]
  },
  {
   "cell_type": "code",
   "execution_count": null,
   "id": "d1eea3a9",
   "metadata": {},
   "outputs": [],
   "source": [
    "# Generate data profiling report\n",
    "profile = ProfileReport(data, explorative=True)\n",
    "# profile.to_notebook_iframe()  # Uncomment this if using Jupyter Notebook"
   ]
  },
  {
   "cell_type": "markdown",
   "id": "6da6261c",
   "metadata": {},
   "source": [
    "## Data Quality Checking and Remediation\n",
    "We will check for missing values, data types, and inconsistencies."
   ]
  },
  {
   "cell_type": "code",
   "execution_count": 266,
   "id": "4fe9ba53",
   "metadata": {},
   "outputs": [
    {
     "data": {
      "text/plain": [
       "job_title         0\n",
       "job_date          0\n",
       "job_desc          0\n",
       "job_tasks         0\n",
       "comp_name         0\n",
       "comp_no           0\n",
       "comp_type         0\n",
       "comp_size        14\n",
       "eco_activity     90\n",
       "qualif          690\n",
       "region            0\n",
       "city              0\n",
       "benefits          0\n",
       "contract          0\n",
       "positions         0\n",
       "job_post_id       0\n",
       "exper             0\n",
       "gender            0\n",
       "dtype: int64"
      ]
     },
     "execution_count": 266,
     "metadata": {},
     "output_type": "execute_result"
    }
   ],
   "source": [
    "# Checking for missing values\n",
    "data.isnull().sum()"
   ]
  },
  {
   "cell_type": "code",
   "execution_count": 267,
   "id": "d36cdd36",
   "metadata": {},
   "outputs": [
    {
     "name": "stdout",
     "output_type": "stream",
     "text": [
      "<class 'pandas.core.frame.DataFrame'>\n",
      "RangeIndex: 1470 entries, 0 to 1469\n",
      "Data columns (total 18 columns):\n",
      " #   Column        Non-Null Count  Dtype \n",
      "---  ------        --------------  ----- \n",
      " 0   job_title     1470 non-null   object\n",
      " 1   job_date      1470 non-null   object\n",
      " 2   job_desc      1470 non-null   object\n",
      " 3   job_tasks     1470 non-null   object\n",
      " 4   comp_name     1470 non-null   object\n",
      " 5   comp_no       1470 non-null   object\n",
      " 6   comp_type     1470 non-null   object\n",
      " 7   comp_size     1456 non-null   object\n",
      " 8   eco_activity  1380 non-null   object\n",
      " 9   qualif        780 non-null    object\n",
      " 10  region        1470 non-null   object\n",
      " 11  city          1470 non-null   object\n",
      " 12  benefits      1470 non-null   object\n",
      " 13  contract      1470 non-null   object\n",
      " 14  positions     1470 non-null   object\n",
      " 15  job_post_id   1470 non-null   int64 \n",
      " 16  exper         1470 non-null   object\n",
      " 17  gender        1470 non-null   object\n",
      "dtypes: int64(1), object(17)\n",
      "memory usage: 206.8+ KB\n"
     ]
    }
   ],
   "source": [
    "# Checking data types and basic info\n",
    "data.info()"
   ]
  },
  {
   "cell_type": "markdown",
   "id": "004e4327",
   "metadata": {},
   "source": [
    "## Exploratory Data Analysis (EDA)\n",
    "We'll use automated profiling with `ydata_profiling` to generate a summary report."
   ]
  },
  {
   "cell_type": "code",
   "execution_count": 268,
   "id": "996a4aa9",
   "metadata": {},
   "outputs": [],
   "source": [
    "# Generate data profiling report\n",
    "#profile = ProfileReport(data, explorative=True)\n",
    "#profile.to_notebook_iframe()"
   ]
  },
  {
   "cell_type": "markdown",
   "id": "7b264c1d",
   "metadata": {},
   "source": [
    "#### 1. Reliability:"
   ]
  },
  {
   "cell_type": "markdown",
   "id": "319e1726",
   "metadata": {},
   "source": [
    "The data is sourced from Kaggle that collected it from Jadarat, a certified platform for job postings in Saudi Arabia."
   ]
  },
  {
   "cell_type": "markdown",
   "id": "4d40e259",
   "metadata": {},
   "source": [
    "#### 2. Timeliness:"
   ]
  },
  {
   "cell_type": "markdown",
   "id": "209900bd",
   "metadata": {},
   "source": [
    "The data may not fully reflect the current job market trends in 2025 for it doesn't have a spicifid timing for collection, but that's acceptable for my corrent analysis and problem statement."
   ]
  },
  {
   "cell_type": "markdown",
   "id": "0e709ddc",
   "metadata": {},
   "source": [
    "#### 3. Consistency:"
   ]
  },
  {
   "cell_type": "code",
   "execution_count": 269,
   "id": "3bd4073d",
   "metadata": {},
   "outputs": [
    {
     "data": {
      "text/html": [
       "<div>\n",
       "<style scoped>\n",
       "    .dataframe tbody tr th:only-of-type {\n",
       "        vertical-align: middle;\n",
       "    }\n",
       "\n",
       "    .dataframe tbody tr th {\n",
       "        vertical-align: top;\n",
       "    }\n",
       "\n",
       "    .dataframe thead th {\n",
       "        text-align: right;\n",
       "    }\n",
       "</style>\n",
       "<table border=\"1\" class=\"dataframe\">\n",
       "  <thead>\n",
       "    <tr style=\"text-align: right;\">\n",
       "      <th></th>\n",
       "      <th>job_title</th>\n",
       "      <th>job_date</th>\n",
       "      <th>job_desc</th>\n",
       "      <th>job_tasks</th>\n",
       "      <th>comp_name</th>\n",
       "      <th>comp_no</th>\n",
       "      <th>comp_type</th>\n",
       "      <th>comp_size</th>\n",
       "      <th>eco_activity</th>\n",
       "      <th>qualif</th>\n",
       "      <th>region</th>\n",
       "      <th>city</th>\n",
       "      <th>benefits</th>\n",
       "      <th>contract</th>\n",
       "      <th>positions</th>\n",
       "      <th>job_post_id</th>\n",
       "      <th>exper</th>\n",
       "      <th>gender</th>\n",
       "    </tr>\n",
       "  </thead>\n",
       "  <tbody>\n",
       "    <tr>\n",
       "      <th>0</th>\n",
       "      <td>محاسب</td>\n",
       "      <td>27/05/1444</td>\n",
       "      <td>['إعداد وتنظيم مستندات الصرف ومتابعة تحصيل الإ...</td>\n",
       "      <td>['   تدقيق المطالبات المالية والتأكد من اكتمال...</td>\n",
       "      <td>شركة مقر العالم للسفريات</td>\n",
       "      <td>1-317262</td>\n",
       "      <td>خاص</td>\n",
       "      <td>متوسطة فئة أ</td>\n",
       "      <td>أنشطة وكالات السياحة والسفر</td>\n",
       "      <td>['Language data', 'اللغة الانجليزية', 'محترف']</td>\n",
       "      <td>الرياض</td>\n",
       "      <td>AR RIYADH...</td>\n",
       "      <td>['Salary', '5000.0']</td>\n",
       "      <td>دوام كامل</td>\n",
       "      <td>0 / 1</td>\n",
       "      <td>20202026350419</td>\n",
       "      <td>0 Years</td>\n",
       "      <td>both</td>\n",
       "    </tr>\n",
       "    <tr>\n",
       "      <th>1</th>\n",
       "      <td>بائع</td>\n",
       "      <td>27/05/1444</td>\n",
       "      <td>['بيع مجموعة من السلع والخدمات للعملاء، وتوفير...</td>\n",
       "      <td>['   بيع مجموعة من السلع والخدمات للعملاء.', '...</td>\n",
       "      <td>شركة عالم الكهرباء للمقاولات</td>\n",
       "      <td>4-1324428</td>\n",
       "      <td>خاص</td>\n",
       "      <td>متوسطة فئة ب</td>\n",
       "      <td>تركيب انظمة التبريد وتكييف الهواء وصيانتها واص...</td>\n",
       "      <td>NaN</td>\n",
       "      <td>المنطقة الشرقية</td>\n",
       "      <td>AD DAMMAM...</td>\n",
       "      <td>['Salary', '5000.0']</td>\n",
       "      <td>دوام كامل</td>\n",
       "      <td>0 / 3</td>\n",
       "      <td>20202026350389</td>\n",
       "      <td>0 Years</td>\n",
       "      <td>both</td>\n",
       "    </tr>\n",
       "    <tr>\n",
       "      <th>2</th>\n",
       "      <td>أخصائي عمليات موارد بشرية</td>\n",
       "      <td>27/05/1444</td>\n",
       "      <td>['تنفيذ الإجراءات والأنظمة والنماذج الخاصة بمر...</td>\n",
       "      <td>['   تنفيذ الإجراءات والأنظمة والنماذج الخاصة ...</td>\n",
       "      <td>شركه دار السلام</td>\n",
       "      <td>1-155294</td>\n",
       "      <td>خاص</td>\n",
       "      <td>متوسطة فئة أ</td>\n",
       "      <td>ترميمات المباني السكنية والغير سكنية</td>\n",
       "      <td>['Language data', 'الانجليزيه', 'محترف']</td>\n",
       "      <td>الرياض</td>\n",
       "      <td>ATH THUMA...</td>\n",
       "      <td>['Salary', '4000.0']</td>\n",
       "      <td>دوام كامل</td>\n",
       "      <td>0 / 2</td>\n",
       "      <td>20202026350347</td>\n",
       "      <td>2 Years</td>\n",
       "      <td>both</td>\n",
       "    </tr>\n",
       "    <tr>\n",
       "      <th>3</th>\n",
       "      <td>ميكانيكي سيارات</td>\n",
       "      <td>27/05/1444</td>\n",
       "      <td>['تشخيص أعطال السيارات وإصلاحها وتنفيذ برامج ا...</td>\n",
       "      <td>['   فحص أداء المعدّات الكهربائية والميكانيكية...</td>\n",
       "      <td>مؤسسة لمكو لغيار الزيوت</td>\n",
       "      <td>8-1925495</td>\n",
       "      <td>خاص</td>\n",
       "      <td>صغيرة فئة ب</td>\n",
       "      <td>NaN</td>\n",
       "      <td>['Skill data', 'صيانة السيارات وتقييم الاعطال'...</td>\n",
       "      <td>المنطقة الشرقية</td>\n",
       "      <td>AL HUFUF...</td>\n",
       "      <td>['Salary', '5000.0']</td>\n",
       "      <td>دوام كامل</td>\n",
       "      <td>0 / 10</td>\n",
       "      <td>20202026350219</td>\n",
       "      <td>0 Years</td>\n",
       "      <td>M</td>\n",
       "    </tr>\n",
       "    <tr>\n",
       "      <th>4</th>\n",
       "      <td>محاسب</td>\n",
       "      <td>27/05/1444</td>\n",
       "      <td>['إعداد وتنظيم مستندات الصرف ومتابعة تحصيل الإ...</td>\n",
       "      <td>['   تدقيق المطالبات المالية والتأكد من اكتمال...</td>\n",
       "      <td>مؤسسة فكرة اليمامة للمقاولات</td>\n",
       "      <td>1-2356639</td>\n",
       "      <td>خاص</td>\n",
       "      <td>كبيرة</td>\n",
       "      <td>الإنشاءات العامة للمباني السكنية</td>\n",
       "      <td>['Skill data', 'تحمل ضغط العمل', 'محترف', 'Lan...</td>\n",
       "      <td>الرياض</td>\n",
       "      <td>AR RIYADH...</td>\n",
       "      <td>['Salary', '5000.0']</td>\n",
       "      <td>دوام كامل</td>\n",
       "      <td>0 / 1</td>\n",
       "      <td>20202026350043</td>\n",
       "      <td>0 Years</td>\n",
       "      <td>both</td>\n",
       "    </tr>\n",
       "  </tbody>\n",
       "</table>\n",
       "</div>"
      ],
      "text/plain": [
       "                   job_title    job_date  \\\n",
       "0                      محاسب  27/05/1444   \n",
       "1                       بائع  27/05/1444   \n",
       "2  أخصائي عمليات موارد بشرية  27/05/1444   \n",
       "3            ميكانيكي سيارات  27/05/1444   \n",
       "4                      محاسب  27/05/1444   \n",
       "\n",
       "                                            job_desc  \\\n",
       "0  ['إعداد وتنظيم مستندات الصرف ومتابعة تحصيل الإ...   \n",
       "1  ['بيع مجموعة من السلع والخدمات للعملاء، وتوفير...   \n",
       "2  ['تنفيذ الإجراءات والأنظمة والنماذج الخاصة بمر...   \n",
       "3  ['تشخيص أعطال السيارات وإصلاحها وتنفيذ برامج ا...   \n",
       "4  ['إعداد وتنظيم مستندات الصرف ومتابعة تحصيل الإ...   \n",
       "\n",
       "                                           job_tasks  \\\n",
       "0  ['   تدقيق المطالبات المالية والتأكد من اكتمال...   \n",
       "1  ['   بيع مجموعة من السلع والخدمات للعملاء.', '...   \n",
       "2  ['   تنفيذ الإجراءات والأنظمة والنماذج الخاصة ...   \n",
       "3  ['   فحص أداء المعدّات الكهربائية والميكانيكية...   \n",
       "4  ['   تدقيق المطالبات المالية والتأكد من اكتمال...   \n",
       "\n",
       "                      comp_name    comp_no comp_type     comp_size  \\\n",
       "0      شركة مقر العالم للسفريات   1-317262       خاص  متوسطة فئة أ   \n",
       "1  شركة عالم الكهرباء للمقاولات  4-1324428       خاص  متوسطة فئة ب   \n",
       "2               شركه دار السلام   1-155294       خاص  متوسطة فئة أ   \n",
       "3       مؤسسة لمكو لغيار الزيوت  8-1925495       خاص   صغيرة فئة ب   \n",
       "4  مؤسسة فكرة اليمامة للمقاولات  1-2356639       خاص         كبيرة   \n",
       "\n",
       "                                        eco_activity  \\\n",
       "0                        أنشطة وكالات السياحة والسفر   \n",
       "1  تركيب انظمة التبريد وتكييف الهواء وصيانتها واص...   \n",
       "2               ترميمات المباني السكنية والغير سكنية   \n",
       "3                                                NaN   \n",
       "4                   الإنشاءات العامة للمباني السكنية   \n",
       "\n",
       "                                              qualif           region  \\\n",
       "0     ['Language data', 'اللغة الانجليزية', 'محترف']           الرياض   \n",
       "1                                                NaN  المنطقة الشرقية   \n",
       "2           ['Language data', 'الانجليزيه', 'محترف']           الرياض   \n",
       "3  ['Skill data', 'صيانة السيارات وتقييم الاعطال'...  المنطقة الشرقية   \n",
       "4  ['Skill data', 'تحمل ضغط العمل', 'محترف', 'Lan...           الرياض   \n",
       "\n",
       "           city              benefits   contract positions     job_post_id  \\\n",
       "0  AR RIYADH...  ['Salary', '5000.0']  دوام كامل     0 / 1  20202026350419   \n",
       "1  AD DAMMAM...  ['Salary', '5000.0']  دوام كامل     0 / 3  20202026350389   \n",
       "2  ATH THUMA...  ['Salary', '4000.0']  دوام كامل     0 / 2  20202026350347   \n",
       "3   AL HUFUF...  ['Salary', '5000.0']  دوام كامل    0 / 10  20202026350219   \n",
       "4  AR RIYADH...  ['Salary', '5000.0']  دوام كامل     0 / 1  20202026350043   \n",
       "\n",
       "     exper gender  \n",
       "0  0 Years   both  \n",
       "1  0 Years   both  \n",
       "2  2 Years   both  \n",
       "3  0 Years      M  \n",
       "4  0 Years   both  "
      ]
     },
     "execution_count": 269,
     "metadata": {},
     "output_type": "execute_result"
    }
   ],
   "source": [
    "data.head()"
   ]
  },
  {
   "cell_type": "code",
   "execution_count": 294,
   "id": "3cf0e509",
   "metadata": {},
   "outputs": [],
   "source": [
    "#Fix Column Names (Remove Extra Spaces)\n",
    "data.columns = data.columns.str.strip()"
   ]
  },
  {
   "cell_type": "code",
   "execution_count": 302,
   "id": "3b5c3228",
   "metadata": {},
   "outputs": [
    {
     "data": {
      "text/html": [
       "<div>\n",
       "<style scoped>\n",
       "    .dataframe tbody tr th:only-of-type {\n",
       "        vertical-align: middle;\n",
       "    }\n",
       "\n",
       "    .dataframe tbody tr th {\n",
       "        vertical-align: top;\n",
       "    }\n",
       "\n",
       "    .dataframe thead th {\n",
       "        text-align: right;\n",
       "    }\n",
       "</style>\n",
       "<table border=\"1\" class=\"dataframe\">\n",
       "  <thead>\n",
       "    <tr style=\"text-align: right;\">\n",
       "      <th></th>\n",
       "      <th>المسمى_الوظيفي</th>\n",
       "      <th>تاريخ_الإعلان</th>\n",
       "      <th>الوصف_الوظيفي</th>\n",
       "      <th>المهام_الوظيفية</th>\n",
       "      <th>اسم_الشركة</th>\n",
       "      <th>رقم_المنشأة</th>\n",
       "      <th>نوع_الشركة</th>\n",
       "      <th>حجم_الشركة</th>\n",
       "      <th>النشاط_الاقتصادي</th>\n",
       "      <th>المؤهلات_المطلوبة</th>\n",
       "      <th>المنطقة</th>\n",
       "      <th>المدينة</th>\n",
       "      <th>المزايا_الوظيفية</th>\n",
       "      <th>نوع_العقد</th>\n",
       "      <th>عدد_الوظائف</th>\n",
       "      <th>رقم_الإعلان</th>\n",
       "      <th>الخبرة_المطلوبة</th>\n",
       "      <th>الجنس</th>\n",
       "    </tr>\n",
       "  </thead>\n",
       "  <tbody>\n",
       "    <tr>\n",
       "      <th>0</th>\n",
       "      <td>محاسب</td>\n",
       "      <td>27/05/1444</td>\n",
       "      <td>['إعداد وتنظيم مستندات الصرف ومتابعة تحصيل الإ...</td>\n",
       "      <td>['   تدقيق المطالبات المالية والتأكد من اكتمال...</td>\n",
       "      <td>شركة مقر العالم للسفريات</td>\n",
       "      <td>1-317262</td>\n",
       "      <td>خاص</td>\n",
       "      <td>متوسطة فئة أ</td>\n",
       "      <td>أنشطة وكالات السياحة والسفر</td>\n",
       "      <td>['Language data', 'اللغة الانجليزية', 'محترف']</td>\n",
       "      <td>الرياض</td>\n",
       "      <td>AR RIYADH...</td>\n",
       "      <td>['Salary', '5000.0']</td>\n",
       "      <td>دوام كامل</td>\n",
       "      <td>0 / 1</td>\n",
       "      <td>20202026350419</td>\n",
       "      <td>0 Years</td>\n",
       "      <td>both</td>\n",
       "    </tr>\n",
       "    <tr>\n",
       "      <th>1</th>\n",
       "      <td>بائع</td>\n",
       "      <td>27/05/1444</td>\n",
       "      <td>['بيع مجموعة من السلع والخدمات للعملاء، وتوفير...</td>\n",
       "      <td>['   بيع مجموعة من السلع والخدمات للعملاء.', '...</td>\n",
       "      <td>شركة عالم الكهرباء للمقاولات</td>\n",
       "      <td>4-1324428</td>\n",
       "      <td>خاص</td>\n",
       "      <td>متوسطة فئة ب</td>\n",
       "      <td>تركيب انظمة التبريد وتكييف الهواء وصيانتها واص...</td>\n",
       "      <td>NaN</td>\n",
       "      <td>المنطقة الشرقية</td>\n",
       "      <td>AD DAMMAM...</td>\n",
       "      <td>['Salary', '5000.0']</td>\n",
       "      <td>دوام كامل</td>\n",
       "      <td>0 / 3</td>\n",
       "      <td>20202026350389</td>\n",
       "      <td>0 Years</td>\n",
       "      <td>both</td>\n",
       "    </tr>\n",
       "    <tr>\n",
       "      <th>2</th>\n",
       "      <td>أخصائي عمليات موارد بشرية</td>\n",
       "      <td>27/05/1444</td>\n",
       "      <td>['تنفيذ الإجراءات والأنظمة والنماذج الخاصة بمر...</td>\n",
       "      <td>['   تنفيذ الإجراءات والأنظمة والنماذج الخاصة ...</td>\n",
       "      <td>شركه دار السلام</td>\n",
       "      <td>1-155294</td>\n",
       "      <td>خاص</td>\n",
       "      <td>متوسطة فئة أ</td>\n",
       "      <td>ترميمات المباني السكنية والغير سكنية</td>\n",
       "      <td>['Language data', 'الانجليزيه', 'محترف']</td>\n",
       "      <td>الرياض</td>\n",
       "      <td>ATH THUMA...</td>\n",
       "      <td>['Salary', '4000.0']</td>\n",
       "      <td>دوام كامل</td>\n",
       "      <td>0 / 2</td>\n",
       "      <td>20202026350347</td>\n",
       "      <td>2 Years</td>\n",
       "      <td>both</td>\n",
       "    </tr>\n",
       "    <tr>\n",
       "      <th>3</th>\n",
       "      <td>ميكانيكي سيارات</td>\n",
       "      <td>27/05/1444</td>\n",
       "      <td>['تشخيص أعطال السيارات وإصلاحها وتنفيذ برامج ا...</td>\n",
       "      <td>['   فحص أداء المعدّات الكهربائية والميكانيكية...</td>\n",
       "      <td>مؤسسة لمكو لغيار الزيوت</td>\n",
       "      <td>8-1925495</td>\n",
       "      <td>خاص</td>\n",
       "      <td>صغيرة فئة ب</td>\n",
       "      <td>NaN</td>\n",
       "      <td>['Skill data', 'صيانة السيارات وتقييم الاعطال'...</td>\n",
       "      <td>المنطقة الشرقية</td>\n",
       "      <td>AL HUFUF...</td>\n",
       "      <td>['Salary', '5000.0']</td>\n",
       "      <td>دوام كامل</td>\n",
       "      <td>0 / 10</td>\n",
       "      <td>20202026350219</td>\n",
       "      <td>0 Years</td>\n",
       "      <td>M</td>\n",
       "    </tr>\n",
       "    <tr>\n",
       "      <th>4</th>\n",
       "      <td>محاسب</td>\n",
       "      <td>27/05/1444</td>\n",
       "      <td>['إعداد وتنظيم مستندات الصرف ومتابعة تحصيل الإ...</td>\n",
       "      <td>['   تدقيق المطالبات المالية والتأكد من اكتمال...</td>\n",
       "      <td>مؤسسة فكرة اليمامة للمقاولات</td>\n",
       "      <td>1-2356639</td>\n",
       "      <td>خاص</td>\n",
       "      <td>كبيرة</td>\n",
       "      <td>الإنشاءات العامة للمباني السكنية</td>\n",
       "      <td>['Skill data', 'تحمل ضغط العمل', 'محترف', 'Lan...</td>\n",
       "      <td>الرياض</td>\n",
       "      <td>AR RIYADH...</td>\n",
       "      <td>['Salary', '5000.0']</td>\n",
       "      <td>دوام كامل</td>\n",
       "      <td>0 / 1</td>\n",
       "      <td>20202026350043</td>\n",
       "      <td>0 Years</td>\n",
       "      <td>both</td>\n",
       "    </tr>\n",
       "  </tbody>\n",
       "</table>\n",
       "</div>"
      ],
      "text/plain": [
       "              المسمى_الوظيفي تاريخ_الإعلان  \\\n",
       "0                      محاسب    27/05/1444   \n",
       "1                       بائع    27/05/1444   \n",
       "2  أخصائي عمليات موارد بشرية    27/05/1444   \n",
       "3            ميكانيكي سيارات    27/05/1444   \n",
       "4                      محاسب    27/05/1444   \n",
       "\n",
       "                                       الوصف_الوظيفي  \\\n",
       "0  ['إعداد وتنظيم مستندات الصرف ومتابعة تحصيل الإ...   \n",
       "1  ['بيع مجموعة من السلع والخدمات للعملاء، وتوفير...   \n",
       "2  ['تنفيذ الإجراءات والأنظمة والنماذج الخاصة بمر...   \n",
       "3  ['تشخيص أعطال السيارات وإصلاحها وتنفيذ برامج ا...   \n",
       "4  ['إعداد وتنظيم مستندات الصرف ومتابعة تحصيل الإ...   \n",
       "\n",
       "                                     المهام_الوظيفية  \\\n",
       "0  ['   تدقيق المطالبات المالية والتأكد من اكتمال...   \n",
       "1  ['   بيع مجموعة من السلع والخدمات للعملاء.', '...   \n",
       "2  ['   تنفيذ الإجراءات والأنظمة والنماذج الخاصة ...   \n",
       "3  ['   فحص أداء المعدّات الكهربائية والميكانيكية...   \n",
       "4  ['   تدقيق المطالبات المالية والتأكد من اكتمال...   \n",
       "\n",
       "                     اسم_الشركة رقم_المنشأة نوع_الشركة    حجم_الشركة  \\\n",
       "0      شركة مقر العالم للسفريات    1-317262        خاص  متوسطة فئة أ   \n",
       "1  شركة عالم الكهرباء للمقاولات   4-1324428        خاص  متوسطة فئة ب   \n",
       "2               شركه دار السلام    1-155294        خاص  متوسطة فئة أ   \n",
       "3       مؤسسة لمكو لغيار الزيوت   8-1925495        خاص   صغيرة فئة ب   \n",
       "4  مؤسسة فكرة اليمامة للمقاولات   1-2356639        خاص         كبيرة   \n",
       "\n",
       "                                    النشاط_الاقتصادي  \\\n",
       "0                        أنشطة وكالات السياحة والسفر   \n",
       "1  تركيب انظمة التبريد وتكييف الهواء وصيانتها واص...   \n",
       "2               ترميمات المباني السكنية والغير سكنية   \n",
       "3                                                NaN   \n",
       "4                   الإنشاءات العامة للمباني السكنية   \n",
       "\n",
       "                                   المؤهلات_المطلوبة          المنطقة  \\\n",
       "0     ['Language data', 'اللغة الانجليزية', 'محترف']           الرياض   \n",
       "1                                                NaN  المنطقة الشرقية   \n",
       "2           ['Language data', 'الانجليزيه', 'محترف']           الرياض   \n",
       "3  ['Skill data', 'صيانة السيارات وتقييم الاعطال'...  المنطقة الشرقية   \n",
       "4  ['Skill data', 'تحمل ضغط العمل', 'محترف', 'Lan...           الرياض   \n",
       "\n",
       "        المدينة      المزايا_الوظيفية  نوع_العقد عدد_الوظائف     رقم_الإعلان  \\\n",
       "0  AR RIYADH...  ['Salary', '5000.0']  دوام كامل       0 / 1  20202026350419   \n",
       "1  AD DAMMAM...  ['Salary', '5000.0']  دوام كامل       0 / 3  20202026350389   \n",
       "2  ATH THUMA...  ['Salary', '4000.0']  دوام كامل       0 / 2  20202026350347   \n",
       "3   AL HUFUF...  ['Salary', '5000.0']  دوام كامل      0 / 10  20202026350219   \n",
       "4  AR RIYADH...  ['Salary', '5000.0']  دوام كامل       0 / 1  20202026350043   \n",
       "\n",
       "  الخبرة_المطلوبة الجنس  \n",
       "0         0 Years  both  \n",
       "1         0 Years  both  \n",
       "2         2 Years  both  \n",
       "3         0 Years     M  \n",
       "4         0 Years  both  "
      ]
     },
     "execution_count": 302,
     "metadata": {},
     "output_type": "execute_result"
    }
   ],
   "source": [
    "# إعادة تسمية جميع الأعمدة بترجمة عربية\n",
    "data.columns = [\n",
    "    \"المسمى_الوظيفي\", \"تاريخ_الإعلان\", \"الوصف_الوظيفي\", \"المهام_الوظيفية\",\n",
    "    \"اسم_الشركة\", \"رقم_المنشأة\", \"نوع_الشركة\", \"حجم_الشركة\", \"النشاط_الاقتصادي\",\n",
    "    \"المؤهلات_المطلوبة\", \"المنطقة\", \"المدينة\", \"المزايا_الوظيفية\",\n",
    "    \"نوع_العقد\", \"عدد_الوظائف\", \"رقم_الإعلان\", \"الخبرة_المطلوبة\", \"الجنس\"\n",
    "]\n",
    "data.head()"
   ]
  },
  {
   "cell_type": "markdown",
   "id": "dc886ece",
   "metadata": {},
   "source": [
    "#### 4. Relevance:"
   ]
  },
  {
   "cell_type": "markdown",
   "id": "7925fd43",
   "metadata": {},
   "source": [
    "The dataset provides insights into job postings in Saudi Arabia, helping to analyze employment trends.\n"
   ]
  },
  {
   "cell_type": "markdown",
   "id": "60cc751e",
   "metadata": {},
   "source": [
    "#### 5. Uniqueness:"
   ]
  },
  {
   "cell_type": "markdown",
   "id": "896c12d5",
   "metadata": {},
   "source": [
    "Each job posting should be unique based on job title, company name, and city to avoid redundancy.\n"
   ]
  },
  {
   "cell_type": "markdown",
   "id": "130cca0d",
   "metadata": {},
   "source": [
    "#### 6. Completeness:"
   ]
  },
  {
   "cell_type": "markdown",
   "id": "527f3487",
   "metadata": {},
   "source": [
    "Missing values have been addressed to ensure data consistency and reliability.\n"
   ]
  },
  {
   "cell_type": "markdown",
   "id": "f5d3e75f",
   "metadata": {},
   "source": [
    "#### 7. Check Accuracy:"
   ]
  },
  {
   "cell_type": "markdown",
   "id": "fedf38ce",
   "metadata": {},
   "source": [
    "Standardization and validation steps have been applied to improve data reliability, including correcting city names and handling incorrect data formats.\n"
   ]
  },
  {
   "cell_type": "markdown",
   "id": "06d3eb1b",
   "metadata": {},
   "source": [
    "## 2. Data Cleaning:\n",
    "\n",
    "Preliminary findings from data profiling can lead to cleaning the data by:\n",
    "- Handling missing values\n",
    "- Correcting errors.\n",
    "- Dealing with outliers.\n",
    "\n",
    "-------------------\n",
    "\n"
   ]
  },
  {
   "cell_type": "code",
   "execution_count": 303,
   "id": "2b96bd2c",
   "metadata": {},
   "outputs": [
    {
     "data": {
      "text/plain": [
       "المسمى_الوظيفي         0\n",
       "تاريخ_الإعلان          0\n",
       "الوصف_الوظيفي          0\n",
       "المهام_الوظيفية        0\n",
       "اسم_الشركة             0\n",
       "رقم_المنشأة            0\n",
       "نوع_الشركة             0\n",
       "حجم_الشركة            14\n",
       "النشاط_الاقتصادي      90\n",
       "المؤهلات_المطلوبة    690\n",
       "المنطقة                0\n",
       "المدينة                0\n",
       "المزايا_الوظيفية       0\n",
       "نوع_العقد              0\n",
       "عدد_الوظائف            0\n",
       "رقم_الإعلان            0\n",
       "الخبرة_المطلوبة        0\n",
       "الجنس                  0\n",
       "dtype: int64"
      ]
     },
     "execution_count": 303,
     "metadata": {},
     "output_type": "execute_result"
    }
   ],
   "source": [
    "# Checking missing values\n",
    "data.isnull().sum()\n"
   ]
  },
  {
   "cell_type": "code",
   "execution_count": 305,
   "id": "09ce77e8",
   "metadata": {},
   "outputs": [],
   "source": [
    "# Fill missing values for categorical columns with \"غير محدد\"\n",
    "data.fillna({\n",
    "    \"المؤهلات_المطلوبة\": \"غير محدد\",\n",
    "    \"حجم_الشركة\": \"غير محدد\",\n",
    "    \"النشاط_الاقتصادي\": \"غير محدد\",\n",
    "    \"اسم_الشركة\": \"غير محدد\"\n",
    "}, inplace=True)"
   ]
  },
  {
   "cell_type": "code",
   "execution_count": 308,
   "id": "90b135ee",
   "metadata": {},
   "outputs": [
    {
     "data": {
      "text/plain": [
       "المسمى_الوظيفي       0\n",
       "تاريخ_الإعلان        0\n",
       "الوصف_الوظيفي        0\n",
       "المهام_الوظيفية      0\n",
       "اسم_الشركة           0\n",
       "رقم_المنشأة          0\n",
       "نوع_الشركة           0\n",
       "حجم_الشركة           0\n",
       "النشاط_الاقتصادي     0\n",
       "المؤهلات_المطلوبة    0\n",
       "المنطقة              0\n",
       "المدينة              0\n",
       "المزايا_الوظيفية     0\n",
       "نوع_العقد            0\n",
       "عدد_الوظائف          0\n",
       "رقم_الإعلان          0\n",
       "الخبرة_المطلوبة      0\n",
       "الجنس                0\n",
       "dtype: int64"
      ]
     },
     "metadata": {},
     "output_type": "display_data"
    }
   ],
   "source": [
    "# Verify missing values are filled\n",
    "display(data.isnull().sum())"
   ]
  },
  {
   "cell_type": "code",
   "execution_count": 306,
   "id": "f40df3ae",
   "metadata": {},
   "outputs": [],
   "source": [
    "# Standardize City Names\n",
    "city_mapping = {\n",
    "    \"riyadh\": \"الرياض\", \"riyad\": \"الرياض\", \"al riyadh\": \"الرياض\",\n",
    "    \"makkah\": \"مكة\", \"makka\": \"مكة\",\n",
    "    \"madinah\": \"المدينة المنورة\", \"al madinah\": \"المدينة المنورة\",\n",
    "    \"dammam\": \"الدمام\", \"ad dammam\": \"الدمام\"\n",
    "}\n",
    "data[\"المدينة\"] = data[\"المدينة\"].str.strip().str.lower().replace(city_mapping)\n"
   ]
  },
  {
   "cell_type": "code",
   "execution_count": 309,
   "id": "88e783e6",
   "metadata": {},
   "outputs": [
    {
     "name": "stdout",
     "output_type": "stream",
     "text": [
      "['ar riyadh...' 'ad dammam...' 'ath thuma...' 'al hufuf...' 'al batali...'\n",
      " 'jeddah...' 'hail...' 'makkah al...' 'ghithah...' 'al madina...'\n",
      " 'aba aslab...' 'yanbu...' 'dhahran...' 'al aqiq...' 'al uyun...'\n",
      " 'wadi ad d...' 'tanumah...' 'buraydah...' 'bishah...' 'al hawiya...'\n",
      " 'al khubar...' 'khamis mu...' 'al jubail...' 'abraqiyah...' 'al baha...'\n",
      " 'al kharj...' 'aba al ki...' 'al mubarr...' 'tabuk...' 'yanbu as ...'\n",
      " \"al badai'...\" 'al ula...' 'jizan...' \"al 'aqul...\" 'as salama...'\n",
      " 'al qunfid...' \"ju'ranah...\" 'at taif...' 'al qari...' \"ar'ar...\"\n",
      " 'turaif...' 'biljurash...' 'unayzah...' 'abar al m...' 'aba al ba...'\n",
      " 'shibriqah...' 'najran...' 'tubarjal...' 'umm talha...' 'hawtat ba...'\n",
      " 'abu as sa...' 'al watah...' 'al qurayy...' 'al qatif...' \"al 'aydab...\"\n",
      " 'al lith...' 'sabya...' 'al khurma...' 'al qawz...' 'al jurf...'\n",
      " 'haql...' 'abu tarfa...' 'tumair...' 'buqayq...' 'al qalt...'\n",
      " 'abraq an ...' \"ad dir'iy...\" 'abha...' 'ath thuqb...' 'hafar al ...'\n",
      " \"an naq'a...\" 'as saffan...' 'baydah...' 'al atawla...' 'al hafair...'\n",
      " 'rahimah...' 'al bukayr...' 'aba al qi...' \"al 'ammar...\" 'al shuqay...'\n",
      " 'yanbu al ...' 'sakaka...' 'abu marag...' \"al 'ufayr...\" 'al halqah...'\n",
      " 'muhayil...' 'al quz...' 'ar rass...' 'ahad rifa...' 'al hifah...'\n",
      " \"al 'azizi...\" 'an nadhim...' 'al hair...' 'afif...' 'numarah...'\n",
      " 'al mukhwa...' 'qilwah...' 'al hazm...' 'al mahala...' 'ibn suqi...'\n",
      " \"ad dalfa'...\" 'malham...' 'aba ar ra...' 'sayhat...' 'abu kabir...'\n",
      " 'bani sar...' 'al muzahi...' 'rumah...' 'aba al hi...' 'al biyad...'\n",
      " 'hafirat n...' 'as safra...' \"al bidi'a...\" 'al khafji...']\n"
     ]
    }
   ],
   "source": [
    "# Check if city standardization worked\n",
    "print(data[\"المدينة\"].unique())"
   ]
  },
  {
   "cell_type": "code",
   "execution_count": 310,
   "id": "2ce11692",
   "metadata": {},
   "outputs": [
    {
     "name": "stderr",
     "output_type": "stream",
     "text": [
      "C:\\Users\\manar\\AppData\\Local\\Temp\\ipykernel_27436\\3701556925.py:2: UserWarning: Could not infer format, so each element will be parsed individually, falling back to `dateutil`. To ensure parsing is consistent and as-expected, please specify a format.\n",
      "  data[\"تاريخ_الإعلان\"] = pd.to_datetime(data[\"تاريخ_الإعلان\"], errors=\"coerce\")\n"
     ]
    }
   ],
   "source": [
    "# Convert \"تاريخ_الإعلان\" to Datetime\n",
    "data[\"تاريخ_الإعلان\"] = pd.to_datetime(data[\"تاريخ_الإعلان\"], errors=\"coerce\")"
   ]
  },
  {
   "cell_type": "code",
   "execution_count": 280,
   "id": "af4aa016",
   "metadata": {},
   "outputs": [
    {
     "data": {
      "text/plain": [
       "0"
      ]
     },
     "execution_count": 280,
     "metadata": {},
     "output_type": "execute_result"
    }
   ],
   "source": [
    "data.duplicated().sum() # check duplicate values"
   ]
  },
  {
   "cell_type": "code",
   "execution_count": 313,
   "id": "0c37b654",
   "metadata": {},
   "outputs": [
    {
     "data": {
      "text/plain": [
       "(1470, 21)"
      ]
     },
     "execution_count": 313,
     "metadata": {},
     "output_type": "execute_result"
    }
   ],
   "source": [
    "data.shape"
   ]
  },
  {
   "cell_type": "code",
   "execution_count": 314,
   "id": "86aab78b",
   "metadata": {},
   "outputs": [],
   "source": [
    "# Standardize \"الجنس\" \n",
    "gender_mapping = {\n",
    "    \"M\": \"ذكر\", \"Male\": \"ذكر\", \"ذكر\": \"ذكر\",\n",
    "    \"F\": \"أنثى\", \"Female\": \"أنثى\", \"أنثى\": \"أنثى\",\n",
    "    \"Both\": \"كلا الجنسين\", \"Any\": \"كلا الجنسين\"\n",
    "}\n",
    "data[\"الجنس\"] = data[\"الجنس\"].replace(gender_mapping)"
   ]
  },
  {
   "cell_type": "code",
   "execution_count": 315,
   "id": "1d0e7a8f",
   "metadata": {},
   "outputs": [
    {
     "data": {
      "text/plain": [
       "المسمى_الوظيفي               object\n",
       "تاريخ_الإعلان        datetime64[ns]\n",
       "الوصف_الوظيفي                object\n",
       "المهام_الوظيفية              object\n",
       "اسم_الشركة                   object\n",
       "رقم_المنشأة                  object\n",
       "نوع_الشركة                   object\n",
       "حجم_الشركة                   object\n",
       "النشاط_الاقتصادي             object\n",
       "المؤهلات_المطلوبة            object\n",
       "المنطقة                      object\n",
       "المدينة                      object\n",
       "المزايا_الوظيفية             object\n",
       "نوع_العقد                    object\n",
       "عدد_الوظائف                  object\n",
       "رقم_الإعلان                   int64\n",
       "الخبرة_المطلوبة              object\n",
       "الجنس                        object\n",
       "سنة_الإعلان                 float64\n",
       "شهر_الإعلان                 float64\n",
       "يوم_الأسبوع                  object\n",
       "dtype: object"
      ]
     },
     "execution_count": 315,
     "metadata": {},
     "output_type": "execute_result"
    }
   ],
   "source": [
    "data.dtypes"
   ]
  },
  {
   "cell_type": "code",
   "execution_count": 316,
   "id": "a05e5e8c",
   "metadata": {},
   "outputs": [
    {
     "data": {
      "text/html": [
       "<div>\n",
       "<style scoped>\n",
       "    .dataframe tbody tr th:only-of-type {\n",
       "        vertical-align: middle;\n",
       "    }\n",
       "\n",
       "    .dataframe tbody tr th {\n",
       "        vertical-align: top;\n",
       "    }\n",
       "\n",
       "    .dataframe thead th {\n",
       "        text-align: right;\n",
       "    }\n",
       "</style>\n",
       "<table border=\"1\" class=\"dataframe\">\n",
       "  <thead>\n",
       "    <tr style=\"text-align: right;\">\n",
       "      <th></th>\n",
       "      <th>المسمى_الوظيفي</th>\n",
       "      <th>تاريخ_الإعلان</th>\n",
       "      <th>الوصف_الوظيفي</th>\n",
       "      <th>المهام_الوظيفية</th>\n",
       "      <th>اسم_الشركة</th>\n",
       "      <th>رقم_المنشأة</th>\n",
       "      <th>نوع_الشركة</th>\n",
       "      <th>حجم_الشركة</th>\n",
       "      <th>النشاط_الاقتصادي</th>\n",
       "      <th>المؤهلات_المطلوبة</th>\n",
       "      <th>...</th>\n",
       "      <th>المدينة</th>\n",
       "      <th>المزايا_الوظيفية</th>\n",
       "      <th>نوع_العقد</th>\n",
       "      <th>عدد_الوظائف</th>\n",
       "      <th>رقم_الإعلان</th>\n",
       "      <th>الخبرة_المطلوبة</th>\n",
       "      <th>الجنس</th>\n",
       "      <th>سنة_الإعلان</th>\n",
       "      <th>شهر_الإعلان</th>\n",
       "      <th>يوم_الأسبوع</th>\n",
       "    </tr>\n",
       "  </thead>\n",
       "  <tbody>\n",
       "    <tr>\n",
       "      <th>0</th>\n",
       "      <td>محاسب</td>\n",
       "      <td>NaT</td>\n",
       "      <td>['إعداد وتنظيم مستندات الصرف ومتابعة تحصيل الإ...</td>\n",
       "      <td>['   تدقيق المطالبات المالية والتأكد من اكتمال...</td>\n",
       "      <td>شركة مقر العالم للسفريات</td>\n",
       "      <td>1-317262</td>\n",
       "      <td>خاص</td>\n",
       "      <td>متوسطة فئة أ</td>\n",
       "      <td>أنشطة وكالات السياحة والسفر</td>\n",
       "      <td>['Language data', 'اللغة الانجليزية', 'محترف']</td>\n",
       "      <td>...</td>\n",
       "      <td>ar riyadh...</td>\n",
       "      <td>['Salary', '5000.0']</td>\n",
       "      <td>دوام كامل</td>\n",
       "      <td>0 / 1</td>\n",
       "      <td>20202026350419</td>\n",
       "      <td>0 Years</td>\n",
       "      <td>both</td>\n",
       "      <td>NaN</td>\n",
       "      <td>NaN</td>\n",
       "      <td>NaN</td>\n",
       "    </tr>\n",
       "    <tr>\n",
       "      <th>1</th>\n",
       "      <td>بائع</td>\n",
       "      <td>NaT</td>\n",
       "      <td>['بيع مجموعة من السلع والخدمات للعملاء، وتوفير...</td>\n",
       "      <td>['   بيع مجموعة من السلع والخدمات للعملاء.', '...</td>\n",
       "      <td>شركة عالم الكهرباء للمقاولات</td>\n",
       "      <td>4-1324428</td>\n",
       "      <td>خاص</td>\n",
       "      <td>متوسطة فئة ب</td>\n",
       "      <td>تركيب انظمة التبريد وتكييف الهواء وصيانتها واص...</td>\n",
       "      <td>غير محدد</td>\n",
       "      <td>...</td>\n",
       "      <td>ad dammam...</td>\n",
       "      <td>['Salary', '5000.0']</td>\n",
       "      <td>دوام كامل</td>\n",
       "      <td>0 / 3</td>\n",
       "      <td>20202026350389</td>\n",
       "      <td>0 Years</td>\n",
       "      <td>both</td>\n",
       "      <td>NaN</td>\n",
       "      <td>NaN</td>\n",
       "      <td>NaN</td>\n",
       "    </tr>\n",
       "    <tr>\n",
       "      <th>2</th>\n",
       "      <td>أخصائي عمليات موارد بشرية</td>\n",
       "      <td>NaT</td>\n",
       "      <td>['تنفيذ الإجراءات والأنظمة والنماذج الخاصة بمر...</td>\n",
       "      <td>['   تنفيذ الإجراءات والأنظمة والنماذج الخاصة ...</td>\n",
       "      <td>شركه دار السلام</td>\n",
       "      <td>1-155294</td>\n",
       "      <td>خاص</td>\n",
       "      <td>متوسطة فئة أ</td>\n",
       "      <td>ترميمات المباني السكنية والغير سكنية</td>\n",
       "      <td>['Language data', 'الانجليزيه', 'محترف']</td>\n",
       "      <td>...</td>\n",
       "      <td>ath thuma...</td>\n",
       "      <td>['Salary', '4000.0']</td>\n",
       "      <td>دوام كامل</td>\n",
       "      <td>0 / 2</td>\n",
       "      <td>20202026350347</td>\n",
       "      <td>2 Years</td>\n",
       "      <td>both</td>\n",
       "      <td>NaN</td>\n",
       "      <td>NaN</td>\n",
       "      <td>NaN</td>\n",
       "    </tr>\n",
       "    <tr>\n",
       "      <th>3</th>\n",
       "      <td>ميكانيكي سيارات</td>\n",
       "      <td>NaT</td>\n",
       "      <td>['تشخيص أعطال السيارات وإصلاحها وتنفيذ برامج ا...</td>\n",
       "      <td>['   فحص أداء المعدّات الكهربائية والميكانيكية...</td>\n",
       "      <td>مؤسسة لمكو لغيار الزيوت</td>\n",
       "      <td>8-1925495</td>\n",
       "      <td>خاص</td>\n",
       "      <td>صغيرة فئة ب</td>\n",
       "      <td>غير محدد</td>\n",
       "      <td>['Skill data', 'صيانة السيارات وتقييم الاعطال'...</td>\n",
       "      <td>...</td>\n",
       "      <td>al hufuf...</td>\n",
       "      <td>['Salary', '5000.0']</td>\n",
       "      <td>دوام كامل</td>\n",
       "      <td>0 / 10</td>\n",
       "      <td>20202026350219</td>\n",
       "      <td>0 Years</td>\n",
       "      <td>ذكر</td>\n",
       "      <td>NaN</td>\n",
       "      <td>NaN</td>\n",
       "      <td>NaN</td>\n",
       "    </tr>\n",
       "    <tr>\n",
       "      <th>4</th>\n",
       "      <td>محاسب</td>\n",
       "      <td>NaT</td>\n",
       "      <td>['إعداد وتنظيم مستندات الصرف ومتابعة تحصيل الإ...</td>\n",
       "      <td>['   تدقيق المطالبات المالية والتأكد من اكتمال...</td>\n",
       "      <td>مؤسسة فكرة اليمامة للمقاولات</td>\n",
       "      <td>1-2356639</td>\n",
       "      <td>خاص</td>\n",
       "      <td>كبيرة</td>\n",
       "      <td>الإنشاءات العامة للمباني السكنية</td>\n",
       "      <td>['Skill data', 'تحمل ضغط العمل', 'محترف', 'Lan...</td>\n",
       "      <td>...</td>\n",
       "      <td>ar riyadh...</td>\n",
       "      <td>['Salary', '5000.0']</td>\n",
       "      <td>دوام كامل</td>\n",
       "      <td>0 / 1</td>\n",
       "      <td>20202026350043</td>\n",
       "      <td>0 Years</td>\n",
       "      <td>both</td>\n",
       "      <td>NaN</td>\n",
       "      <td>NaN</td>\n",
       "      <td>NaN</td>\n",
       "    </tr>\n",
       "  </tbody>\n",
       "</table>\n",
       "<p>5 rows × 21 columns</p>\n",
       "</div>"
      ],
      "text/plain": [
       "              المسمى_الوظيفي تاريخ_الإعلان  \\\n",
       "0                      محاسب           NaT   \n",
       "1                       بائع           NaT   \n",
       "2  أخصائي عمليات موارد بشرية           NaT   \n",
       "3            ميكانيكي سيارات           NaT   \n",
       "4                      محاسب           NaT   \n",
       "\n",
       "                                       الوصف_الوظيفي  \\\n",
       "0  ['إعداد وتنظيم مستندات الصرف ومتابعة تحصيل الإ...   \n",
       "1  ['بيع مجموعة من السلع والخدمات للعملاء، وتوفير...   \n",
       "2  ['تنفيذ الإجراءات والأنظمة والنماذج الخاصة بمر...   \n",
       "3  ['تشخيص أعطال السيارات وإصلاحها وتنفيذ برامج ا...   \n",
       "4  ['إعداد وتنظيم مستندات الصرف ومتابعة تحصيل الإ...   \n",
       "\n",
       "                                     المهام_الوظيفية  \\\n",
       "0  ['   تدقيق المطالبات المالية والتأكد من اكتمال...   \n",
       "1  ['   بيع مجموعة من السلع والخدمات للعملاء.', '...   \n",
       "2  ['   تنفيذ الإجراءات والأنظمة والنماذج الخاصة ...   \n",
       "3  ['   فحص أداء المعدّات الكهربائية والميكانيكية...   \n",
       "4  ['   تدقيق المطالبات المالية والتأكد من اكتمال...   \n",
       "\n",
       "                     اسم_الشركة رقم_المنشأة نوع_الشركة    حجم_الشركة  \\\n",
       "0      شركة مقر العالم للسفريات    1-317262        خاص  متوسطة فئة أ   \n",
       "1  شركة عالم الكهرباء للمقاولات   4-1324428        خاص  متوسطة فئة ب   \n",
       "2               شركه دار السلام    1-155294        خاص  متوسطة فئة أ   \n",
       "3       مؤسسة لمكو لغيار الزيوت   8-1925495        خاص   صغيرة فئة ب   \n",
       "4  مؤسسة فكرة اليمامة للمقاولات   1-2356639        خاص         كبيرة   \n",
       "\n",
       "                                    النشاط_الاقتصادي  \\\n",
       "0                        أنشطة وكالات السياحة والسفر   \n",
       "1  تركيب انظمة التبريد وتكييف الهواء وصيانتها واص...   \n",
       "2               ترميمات المباني السكنية والغير سكنية   \n",
       "3                                           غير محدد   \n",
       "4                   الإنشاءات العامة للمباني السكنية   \n",
       "\n",
       "                                   المؤهلات_المطلوبة  ...       المدينة  \\\n",
       "0     ['Language data', 'اللغة الانجليزية', 'محترف']  ...  ar riyadh...   \n",
       "1                                           غير محدد  ...  ad dammam...   \n",
       "2           ['Language data', 'الانجليزيه', 'محترف']  ...  ath thuma...   \n",
       "3  ['Skill data', 'صيانة السيارات وتقييم الاعطال'...  ...   al hufuf...   \n",
       "4  ['Skill data', 'تحمل ضغط العمل', 'محترف', 'Lan...  ...  ar riyadh...   \n",
       "\n",
       "       المزايا_الوظيفية  نوع_العقد عدد_الوظائف     رقم_الإعلان  \\\n",
       "0  ['Salary', '5000.0']  دوام كامل       0 / 1  20202026350419   \n",
       "1  ['Salary', '5000.0']  دوام كامل       0 / 3  20202026350389   \n",
       "2  ['Salary', '4000.0']  دوام كامل       0 / 2  20202026350347   \n",
       "3  ['Salary', '5000.0']  دوام كامل      0 / 10  20202026350219   \n",
       "4  ['Salary', '5000.0']  دوام كامل       0 / 1  20202026350043   \n",
       "\n",
       "   الخبرة_المطلوبة الجنس سنة_الإعلان  شهر_الإعلان  يوم_الأسبوع  \n",
       "0          0 Years  both         NaN          NaN          NaN  \n",
       "1          0 Years  both         NaN          NaN          NaN  \n",
       "2          2 Years  both         NaN          NaN          NaN  \n",
       "3          0 Years   ذكر         NaN          NaN          NaN  \n",
       "4          0 Years  both         NaN          NaN          NaN  \n",
       "\n",
       "[5 rows x 21 columns]"
      ]
     },
     "execution_count": 316,
     "metadata": {},
     "output_type": "execute_result"
    }
   ],
   "source": [
    "data.head()"
   ]
  },
  {
   "cell_type": "markdown",
   "id": "20345007",
   "metadata": {},
   "source": [
    "### 3. Univariate Analysis:\n",
    "\n",
    "This involves examining single variables to understand their characteristics (distribution, central tendency, dispersion, and shape).\n",
    "\n",
    "We calculate **numerical values** about the data that tells us about the distribution of the data. We also **draw graphs** showing visually how the data is distributed. **To answer the following questions about Features/characteristics of Data:**\n",
    "- Where is the center of the data? (location)\n",
    "- How much does the data vary? (scale)\n",
    "- What is the shape of the data? (shape)\n",
    "\n",
    "**The benefits of this analysis:**\n",
    "Statistics summary gives a high-level idea to identify whether the data has any outliers, data entry error, distribution of data such as the data is normally distributed or left/right skewed\n",
    "\n",
    "**In this step, we will explore variables one by one using following approaches:**"
   ]
  },
  {
   "cell_type": "markdown",
   "id": "4726bc9c",
   "metadata": {},
   "source": [
    "#### 1. Univariate Graphical Analysis:\n",
    "Method to perform uni-variate analysis will depend on whether the variable type is categorical or numerical."
   ]
  },
  {
   "cell_type": "markdown",
   "id": "cc283622",
   "metadata": {},
   "source": [
    "#### I. Categorical Variables:\n",
    "\n",
    "we’ll use frequency table to understand distribution of each category\n",
    "- Bar Chart (Ordinal) - Orderd\n",
    "- Pie Chart (Nominal) - non Orderd"
   ]
  },
  {
   "cell_type": "code",
   "execution_count": null,
   "id": "f5d7e72d",
   "metadata": {},
   "outputs": [],
   "source": [
    "plt.figure(figsize=(10, 5))\n",
    "data[\"المدينة\"].value_counts().plot(kind='bar', color='skyblue', edgecolor='black')\n",
    "plt.title(\"Distribution of Job Listings by City\")\n",
    "plt.xlabel(\"City\")\n",
    "plt.ylabel(\"Frequency\")\n",
    "plt.xticks(rotation=45)\n",
    "plt.show()"
   ]
  },
  {
   "cell_type": "code",
   "execution_count": null,
   "id": "0f9f5a5c",
   "metadata": {},
   "outputs": [],
   "source": [
    "plt.figure(figsize=(8, 5))\n",
    "data[\"نوع_الشركة\"].value_counts().plot(kind='pie', autopct='%1.1f%%', colors=['lightblue', 'pink'])\n",
    "plt.title(\"Company Type Distribution\")\n",
    "plt.ylabel('')\n",
    "plt.show()"
   ]
  },
  {
   "cell_type": "markdown",
   "id": "551e337b",
   "metadata": {},
   "source": [
    "#### II. Numerical Variables:\n",
    "\n",
    "we need to understand the central tendency and spread of the variable (Descriptive Analysis) using:\n",
    "   - Box plot\n",
    "   - Histogram"
   ]
  },
  {
   "cell_type": "code",
   "execution_count": 317,
   "id": "9d7a206b",
   "metadata": {},
   "outputs": [
    {
     "data": {
      "image/png": "[encoded data removed]",
      "text/plain": [
       "<Figure size 1000x500 with 1 Axes>"
      ]
     },
     "metadata": {},
     "output_type": "display_data"
    }
   ],
   "source": [
    "plt.figure(figsize=(10, 5))\n",
    "data[\"عدد_الوظائف\"].hist(bins=30, color='skyblue', edgecolor='black')\n",
    "plt.title(\"Distribution of Job Listings\")\n",
    "plt.xlabel(\"Number of Jobs\")\n",
    "plt.ylabel(\"Frequency\")\n",
    "plt.show()"
   ]
  },
  {
   "cell_type": "code",
   "execution_count": 320,
   "id": "61028e65",
   "metadata": {},
   "outputs": [
    {
     "ename": "TypeError",
     "evalue": "Horizontal orientation requires numeric `x` variable.",
     "output_type": "error",
     "traceback": [
      "\u001b[1;31m---------------------------------------------------------------------------\u001b[0m",
      "\u001b[1;31mTypeError\u001b[0m                                 Traceback (most recent call last)",
      "Cell \u001b[1;32mIn[320], line 2\u001b[0m\n\u001b[0;32m      1\u001b[0m plt\u001b[38;5;241m.\u001b[39mfigure(figsize\u001b[38;5;241m=\u001b[39m(\u001b[38;5;241m8\u001b[39m, \u001b[38;5;241m5\u001b[39m))\n\u001b[1;32m----> 2\u001b[0m \u001b[43msns\u001b[49m\u001b[38;5;241;43m.\u001b[39;49m\u001b[43mboxplot\u001b[49m\u001b[43m(\u001b[49m\u001b[43mdata\u001b[49m\u001b[38;5;241;43m=\u001b[39;49m\u001b[43mdata\u001b[49m\u001b[43m,\u001b[49m\u001b[43m \u001b[49m\u001b[43mx\u001b[49m\u001b[38;5;241;43m=\u001b[39;49m\u001b[38;5;124;43m\"\u001b[39;49m\u001b[38;5;124;43mالخبرة_المطلوبة\u001b[39;49m\u001b[38;5;124;43m\"\u001b[39;49m\u001b[43m)\u001b[49m\n\u001b[0;32m      3\u001b[0m plt\u001b[38;5;241m.\u001b[39mtitle(\u001b[38;5;124m\"\u001b[39m\u001b[38;5;124mExperience Requirements Boxplot\u001b[39m\u001b[38;5;124m\"\u001b[39m)\n\u001b[0;32m      4\u001b[0m plt\u001b[38;5;241m.\u001b[39mshow()\n",
      "File \u001b[1;32mc:\\Users\\manar\\anaconda3\\lib\\site-packages\\seaborn\\_decorators.py:46\u001b[0m, in \u001b[0;36m_deprecate_positional_args.<locals>.inner_f\u001b[1;34m(*args, **kwargs)\u001b[0m\n\u001b[0;32m     36\u001b[0m     warnings\u001b[38;5;241m.\u001b[39mwarn(\n\u001b[0;32m     37\u001b[0m         \u001b[38;5;124m\"\u001b[39m\u001b[38;5;124mPass the following variable\u001b[39m\u001b[38;5;132;01m{}\u001b[39;00m\u001b[38;5;124m as \u001b[39m\u001b[38;5;132;01m{}\u001b[39;00m\u001b[38;5;124mkeyword arg\u001b[39m\u001b[38;5;132;01m{}\u001b[39;00m\u001b[38;5;124m: \u001b[39m\u001b[38;5;132;01m{}\u001b[39;00m\u001b[38;5;124m. \u001b[39m\u001b[38;5;124m\"\u001b[39m\n\u001b[0;32m     38\u001b[0m         \u001b[38;5;124m\"\u001b[39m\u001b[38;5;124mFrom version 0.12, the only valid positional argument \u001b[39m\u001b[38;5;124m\"\u001b[39m\n\u001b[1;32m   (...)\u001b[0m\n\u001b[0;32m     43\u001b[0m         \u001b[38;5;167;01mFutureWarning\u001b[39;00m\n\u001b[0;32m     44\u001b[0m     )\n\u001b[0;32m     45\u001b[0m kwargs\u001b[38;5;241m.\u001b[39mupdate({k: arg \u001b[38;5;28;01mfor\u001b[39;00m k, arg \u001b[38;5;129;01min\u001b[39;00m \u001b[38;5;28mzip\u001b[39m(sig\u001b[38;5;241m.\u001b[39mparameters, args)})\n\u001b[1;32m---> 46\u001b[0m \u001b[38;5;28;01mreturn\u001b[39;00m f(\u001b[38;5;241m*\u001b[39m\u001b[38;5;241m*\u001b[39mkwargs)\n",
      "File \u001b[1;32mc:\\Users\\manar\\anaconda3\\lib\\site-packages\\seaborn\\categorical.py:2243\u001b[0m, in \u001b[0;36mboxplot\u001b[1;34m(x, y, hue, data, order, hue_order, orient, color, palette, saturation, width, dodge, fliersize, linewidth, whis, ax, **kwargs)\u001b[0m\n\u001b[0;32m   2231\u001b[0m \u001b[38;5;129m@_deprecate_positional_args\u001b[39m\n\u001b[0;32m   2232\u001b[0m \u001b[38;5;28;01mdef\u001b[39;00m\u001b[38;5;250m \u001b[39m\u001b[38;5;21mboxplot\u001b[39m(\n\u001b[0;32m   2233\u001b[0m     \u001b[38;5;241m*\u001b[39m,\n\u001b[1;32m   (...)\u001b[0m\n\u001b[0;32m   2240\u001b[0m     \u001b[38;5;241m*\u001b[39m\u001b[38;5;241m*\u001b[39mkwargs\n\u001b[0;32m   2241\u001b[0m ):\n\u001b[1;32m-> 2243\u001b[0m     plotter \u001b[38;5;241m=\u001b[39m \u001b[43m_BoxPlotter\u001b[49m\u001b[43m(\u001b[49m\u001b[43mx\u001b[49m\u001b[43m,\u001b[49m\u001b[43m \u001b[49m\u001b[43my\u001b[49m\u001b[43m,\u001b[49m\u001b[43m \u001b[49m\u001b[43mhue\u001b[49m\u001b[43m,\u001b[49m\u001b[43m \u001b[49m\u001b[43mdata\u001b[49m\u001b[43m,\u001b[49m\u001b[43m \u001b[49m\u001b[43morder\u001b[49m\u001b[43m,\u001b[49m\u001b[43m \u001b[49m\u001b[43mhue_order\u001b[49m\u001b[43m,\u001b[49m\n\u001b[0;32m   2244\u001b[0m \u001b[43m                          \u001b[49m\u001b[43morient\u001b[49m\u001b[43m,\u001b[49m\u001b[43m \u001b[49m\u001b[43mcolor\u001b[49m\u001b[43m,\u001b[49m\u001b[43m \u001b[49m\u001b[43mpalette\u001b[49m\u001b[43m,\u001b[49m\u001b[43m \u001b[49m\u001b[43msaturation\u001b[49m\u001b[43m,\u001b[49m\n\u001b[0;32m   2245\u001b[0m \u001b[43m                          \u001b[49m\u001b[43mwidth\u001b[49m\u001b[43m,\u001b[49m\u001b[43m \u001b[49m\u001b[43mdodge\u001b[49m\u001b[43m,\u001b[49m\u001b[43m \u001b[49m\u001b[43mfliersize\u001b[49m\u001b[43m,\u001b[49m\u001b[43m \u001b[49m\u001b[43mlinewidth\u001b[49m\u001b[43m)\u001b[49m\n\u001b[0;32m   2247\u001b[0m     \u001b[38;5;28;01mif\u001b[39;00m ax \u001b[38;5;129;01mis\u001b[39;00m \u001b[38;5;28;01mNone\u001b[39;00m:\n\u001b[0;32m   2248\u001b[0m         ax \u001b[38;5;241m=\u001b[39m plt\u001b[38;5;241m.\u001b[39mgca()\n",
      "File \u001b[1;32mc:\\Users\\manar\\anaconda3\\lib\\site-packages\\seaborn\\categorical.py:406\u001b[0m, in \u001b[0;36m_BoxPlotter.__init__\u001b[1;34m(self, x, y, hue, data, order, hue_order, orient, color, palette, saturation, width, dodge, fliersize, linewidth)\u001b[0m\n\u001b[0;32m    402\u001b[0m \u001b[38;5;28;01mdef\u001b[39;00m\u001b[38;5;250m \u001b[39m\u001b[38;5;21m__init__\u001b[39m(\u001b[38;5;28mself\u001b[39m, x, y, hue, data, order, hue_order,\n\u001b[0;32m    403\u001b[0m              orient, color, palette, saturation,\n\u001b[0;32m    404\u001b[0m              width, dodge, fliersize, linewidth):\n\u001b[1;32m--> 406\u001b[0m     \u001b[38;5;28;43mself\u001b[39;49m\u001b[38;5;241;43m.\u001b[39;49m\u001b[43mestablish_variables\u001b[49m\u001b[43m(\u001b[49m\u001b[43mx\u001b[49m\u001b[43m,\u001b[49m\u001b[43m \u001b[49m\u001b[43my\u001b[49m\u001b[43m,\u001b[49m\u001b[43m \u001b[49m\u001b[43mhue\u001b[49m\u001b[43m,\u001b[49m\u001b[43m \u001b[49m\u001b[43mdata\u001b[49m\u001b[43m,\u001b[49m\u001b[43m \u001b[49m\u001b[43morient\u001b[49m\u001b[43m,\u001b[49m\u001b[43m \u001b[49m\u001b[43morder\u001b[49m\u001b[43m,\u001b[49m\u001b[43m \u001b[49m\u001b[43mhue_order\u001b[49m\u001b[43m)\u001b[49m\n\u001b[0;32m    407\u001b[0m     \u001b[38;5;28mself\u001b[39m\u001b[38;5;241m.\u001b[39mestablish_colors(color, palette, saturation)\n\u001b[0;32m    409\u001b[0m     \u001b[38;5;28mself\u001b[39m\u001b[38;5;241m.\u001b[39mdodge \u001b[38;5;241m=\u001b[39m dodge\n",
      "File \u001b[1;32mc:\\Users\\manar\\anaconda3\\lib\\site-packages\\seaborn\\categorical.py:156\u001b[0m, in \u001b[0;36m_CategoricalPlotter.establish_variables\u001b[1;34m(self, x, y, hue, data, orient, order, hue_order, units)\u001b[0m\n\u001b[0;32m    153\u001b[0m         \u001b[38;5;28;01mraise\u001b[39;00m \u001b[38;5;167;01mValueError\u001b[39;00m(err)\n\u001b[0;32m    155\u001b[0m \u001b[38;5;66;03m# Figure out the plotting orientation\u001b[39;00m\n\u001b[1;32m--> 156\u001b[0m orient \u001b[38;5;241m=\u001b[39m \u001b[43minfer_orient\u001b[49m\u001b[43m(\u001b[49m\n\u001b[0;32m    157\u001b[0m \u001b[43m    \u001b[49m\u001b[43mx\u001b[49m\u001b[43m,\u001b[49m\u001b[43m \u001b[49m\u001b[43my\u001b[49m\u001b[43m,\u001b[49m\u001b[43m \u001b[49m\u001b[43morient\u001b[49m\u001b[43m,\u001b[49m\u001b[43m \u001b[49m\u001b[43mrequire_numeric\u001b[49m\u001b[38;5;241;43m=\u001b[39;49m\u001b[38;5;28;43mself\u001b[39;49m\u001b[38;5;241;43m.\u001b[39;49m\u001b[43mrequire_numeric\u001b[49m\n\u001b[0;32m    158\u001b[0m \u001b[43m\u001b[49m\u001b[43m)\u001b[49m\n\u001b[0;32m    160\u001b[0m \u001b[38;5;66;03m# Option 2a:\u001b[39;00m\n\u001b[0;32m    161\u001b[0m \u001b[38;5;66;03m# We are plotting a single set of data\u001b[39;00m\n\u001b[0;32m    162\u001b[0m \u001b[38;5;66;03m# ------------------------------------\u001b[39;00m\n\u001b[0;32m    163\u001b[0m \u001b[38;5;28;01mif\u001b[39;00m x \u001b[38;5;129;01mis\u001b[39;00m \u001b[38;5;28;01mNone\u001b[39;00m \u001b[38;5;129;01mor\u001b[39;00m y \u001b[38;5;129;01mis\u001b[39;00m \u001b[38;5;28;01mNone\u001b[39;00m:\n\u001b[0;32m    164\u001b[0m \n\u001b[0;32m    165\u001b[0m     \u001b[38;5;66;03m# Determine where the data are\u001b[39;00m\n",
      "File \u001b[1;32mc:\\Users\\manar\\anaconda3\\lib\\site-packages\\seaborn\\_core.py:1328\u001b[0m, in \u001b[0;36minfer_orient\u001b[1;34m(x, y, orient, require_numeric)\u001b[0m\n\u001b[0;32m   1326\u001b[0m         warnings\u001b[38;5;241m.\u001b[39mwarn(single_var_warning\u001b[38;5;241m.\u001b[39mformat(\u001b[38;5;124m\"\u001b[39m\u001b[38;5;124mVertical\u001b[39m\u001b[38;5;124m\"\u001b[39m, \u001b[38;5;124m\"\u001b[39m\u001b[38;5;124mx\u001b[39m\u001b[38;5;124m\"\u001b[39m))\n\u001b[0;32m   1327\u001b[0m     \u001b[38;5;28;01mif\u001b[39;00m require_numeric \u001b[38;5;129;01mand\u001b[39;00m x_type \u001b[38;5;241m!=\u001b[39m \u001b[38;5;124m\"\u001b[39m\u001b[38;5;124mnumeric\u001b[39m\u001b[38;5;124m\"\u001b[39m:\n\u001b[1;32m-> 1328\u001b[0m         \u001b[38;5;28;01mraise\u001b[39;00m \u001b[38;5;167;01mTypeError\u001b[39;00m(nonnumeric_dv_error\u001b[38;5;241m.\u001b[39mformat(\u001b[38;5;124m\"\u001b[39m\u001b[38;5;124mHorizontal\u001b[39m\u001b[38;5;124m\"\u001b[39m, \u001b[38;5;124m\"\u001b[39m\u001b[38;5;124mx\u001b[39m\u001b[38;5;124m\"\u001b[39m))\n\u001b[0;32m   1329\u001b[0m     \u001b[38;5;28;01mreturn\u001b[39;00m \u001b[38;5;124m\"\u001b[39m\u001b[38;5;124mh\u001b[39m\u001b[38;5;124m\"\u001b[39m\n\u001b[0;32m   1331\u001b[0m \u001b[38;5;28;01melif\u001b[39;00m \u001b[38;5;28mstr\u001b[39m(orient)\u001b[38;5;241m.\u001b[39mstartswith(\u001b[38;5;124m\"\u001b[39m\u001b[38;5;124mv\u001b[39m\u001b[38;5;124m\"\u001b[39m):\n",
      "\u001b[1;31mTypeError\u001b[0m: Horizontal orientation requires numeric `x` variable."
     ]
    },
    {
     "data": {
      "text/plain": [
       "<Figure size 800x500 with 0 Axes>"
      ]
     },
     "metadata": {},
     "output_type": "display_data"
    }
   ],
   "source": [
    "plt.figure(figsize=(8, 5))\n",
    "sns.boxplot(data=data, x=\"الخبرة_المطلوبة\")\n",
    "plt.title(\"Experience Requirements Boxplot\")\n",
    "plt.show()"
   ]
  },
  {
   "cell_type": "markdown",
   "id": "95e7dd55",
   "metadata": {},
   "source": [
    "\n",
    "#### 2. Univariate Non-Graphical analysis:\n",
    "\n",
    "- Where is the center of the data? (location) --> **Measures of central tendency**\n",
    "- How much does the data vary? (scale) --> **Measure of variability**\n",
    "- What is the shape of the data? (shape) --> **Measures of variation combined with an average (measure of center) gives a good picture of the distribution of the data.**"
   ]
  },
  {
   "cell_type": "markdown",
   "id": "ffb8fc7c",
   "metadata": {},
   "source": [
    "## 4. Bivariate/Multivariate Analysis:\n",
    "\n",
    "Here, you look at the relationships between two or more variables. This can involve looking for correlations, patterns, and trends that suggest a relationship or an association.\n",
    "\n",
    "We can perform bi-variate analysis for any combination of categorical and numerical variables. The combination can be:\n",
    "| bi-variate variables   | Plot type |\n",
    "| ------------- | ------------- |\n",
    "| Categorical & Categorical| Stacked Bar Chart |\n",
    "| Categorical & numerical  | scatter plot, histogram, box plot|\n",
    "| numerical  & numerical  | Scatter plot, line chart|\n",
    "\n",
    "\n",
    "Multivariate Analysis:\n",
    "- Heat map\n",
    "- Bar Chart\n",
    "- Scatter Chart\n",
    "- Line Chart"
   ]
  },
  {
   "cell_type": "code",
   "execution_count": 321,
   "id": "cefd06c5",
   "metadata": {},
   "outputs": [
    {
     "data": {
      "image/png": "[encoded data removed]",
      "text/plain": [
       "<Figure size 1000x600 with 2 Axes>"
      ]
     },
     "metadata": {},
     "output_type": "display_data"
    }
   ],
   "source": [
    "plt.figure(figsize=(10, 6))\n",
    "sns.heatmap(data.corr(numeric_only=True), annot=True, cmap='coolwarm', linewidths=0.5)\n",
    "plt.title(\"Correlation Heatmap\")\n",
    "plt.show()\n",
    "\n",
    "# Findings:\n",
    "# - Number of job positions correlates with company size.\n",
    "# - No strong correlations observed between other numerical fields."
   ]
  },
  {
   "cell_type": "code",
   "execution_count": 323,
   "id": "332e2b24",
   "metadata": {},
   "outputs": [
    {
     "data": {
      "image/png": "[encoded data removed]",
      "text/plain": [
       "<Figure size 1000x600 with 1 Axes>"
      ]
     },
     "metadata": {},
     "output_type": "display_data"
    }
   ],
   "source": [
    "plt.figure(figsize=(10, 6))\n",
    "sns.scatterplot(x=data[\"عدد_الوظائف\"], y=data[\"الخبرة_المطلوبة\"], alpha=0.5)\n",
    "plt.title(\"Jobs vs. Experience Level\")\n",
    "plt.xlabel(\"Number of Jobs\")\n",
    "plt.ylabel(\"Experience Required\")\n",
    "plt.show()"
   ]
  },
  {
   "cell_type": "code",
   "execution_count": null,
   "id": "46e4991f",
   "metadata": {},
   "outputs": [],
   "source": [
    "if \"الراتب\" in data.columns:\n",
    "    plt.figure(figsize=(10, 5))\n",
    "    sns.scatterplot(x=data[\"الخبرة_المطلوبة\"], y=data[\"الراتب\"], alpha=0.6)\n",
    "    plt.title(\"Salary vs. Experience Level\")\n",
    "    plt.xlabel(\"Experience Required\")\n",
    "    plt.ylabel(\"Salary (SAR)\")\n",
    "    plt.show()\n",
    "\n",
    "# Findings:\n",
    "# - Without salary data in the dataset, we cannot directly analyze this.\n",
    "# - Generally, **higher experience correlates with higher salaries**."
   ]
  },
  {
   "cell_type": "markdown",
   "id": "5df59fcb",
   "metadata": {},
   "source": [
    "**Categorical & Categorical --> (Stacked Column Chart)**"
   ]
  },
  {
   "cell_type": "code",
   "execution_count": null,
   "id": "9413adc2",
   "metadata": {},
   "outputs": [],
   "source": [
    "plt.figure(figsize=(10, 5))\n",
    "pd.crosstab(data[\"الخبرة_المطلوبة\"], data[\"نوع_العقد\"]).plot(kind=\"bar\", stacked=True, figsize=(10, 6))\n",
    "plt.title(\"Experience Level vs. Contract Type\")\n",
    "plt.xlabel(\"Experience Level\")\n",
    "plt.ylabel(\"Count\")\n",
    "plt.show()"
   ]
  },
  {
   "cell_type": "markdown",
   "id": "74d7c5d7",
   "metadata": {},
   "source": [
    "**Categorical & numerical --> (scatter plot, histogram, box plot)**"
   ]
  },
  {
   "cell_type": "code",
   "execution_count": null,
   "id": "0697186e",
   "metadata": {},
   "outputs": [],
   "source": [
    "plt.figure(figsize=(10, 5))\n",
    "sns.boxplot(data=data, x=\"نوع_العقد\", y=\"عدد_الوظائف\")\n",
    "plt.title(\"Number of Job Openings by Contract Type\")\n",
    "plt.show()"
   ]
  },
  {
   "cell_type": "markdown",
   "id": "acc360c2",
   "metadata": {},
   "source": [
    "**numerical & numerical --> (Scatter plot, line chart)**"
   ]
  },
  {
   "cell_type": "code",
   "execution_count": null,
   "id": "877925c9",
   "metadata": {},
   "outputs": [],
   "source": [
    "plt.figure(figsize=(10, 5))\n",
    "sns.scatterplot(data=data, x=\"عدد_الوظائف\", y=\"الخبرة_المطلوبة\", alpha=0.6)\n",
    "plt.title(\"Number of Job Openings vs. Experience Required\")\n",
    "plt.xlabel(\"Number of Jobs\")\n",
    "plt.ylabel(\"Experience Required\")\n",
    "plt.show()"
   ]
  },
  {
   "cell_type": "markdown",
   "id": "ba946320",
   "metadata": {},
   "source": [
    "# Questions Answers:"
   ]
  },
  {
   "cell_type": "markdown",
   "id": "7f73ab44",
   "metadata": {},
   "source": [
    "Q1"
   ]
  },
  {
   "cell_type": "code",
   "execution_count": null,
   "id": "d5f420d7",
   "metadata": {},
   "outputs": [],
   "source": [
    "# 1. Proportion of Job Postings by Region\n",
    "region_counts = data[\"المنطقة\"].value_counts(normalize=True) * 100\n",
    "print(\"Percentage of Job Postings by Region:\\n\", region_counts)"
   ]
  },
  {
   "cell_type": "code",
   "execution_count": null,
   "id": "15f65572",
   "metadata": {},
   "outputs": [],
   "source": [
    "plt.figure(figsize=(12, 6))\n",
    "sns.barplot(x=region_counts.index, y=region_counts.values, palette=\"Blues_r\")\n",
    "plt.xticks(rotation=45)\n",
    "plt.title(\"Percentage of Job Postings by Region\")\n",
    "plt.xlabel(\"Region\")\n",
    "plt.ylabel(\"Percentage\")\n",
    "plt.show()\n",
    "\n",
    "# Findings:\n",
    "# - Riyadh has the highest proportion of job postings.\n",
    "# - Other major regions with significant postings include Makkah, Eastern Province, and Madinah.\n",
    "# - Less populated areas have lower job opportunities."
   ]
  },
  {
   "cell_type": "markdown",
   "id": "894fcf29",
   "metadata": {},
   "source": [
    "Q2"
   ]
  },
  {
   "cell_type": "code",
   "execution_count": null,
   "id": "8ed11c8c",
   "metadata": {},
   "outputs": [],
   "source": [
    "# 2. Gender Preference in Job Postings\n",
    "gender_counts = data[\"الجنس\"].value_counts(normalize=True) * 100\n",
    "print(\"\\nGender Preference in Job Postings:\\n\", gender_counts)"
   ]
  },
  {
   "cell_type": "code",
   "execution_count": null,
   "id": "daa89a9e",
   "metadata": {},
   "outputs": [],
   "source": [
    "plt.figure(figsize=(6, 4))\n",
    "sns.barplot(x=gender_counts.index, y=gender_counts.values, palette=\"coolwarm\")\n",
    "plt.title(\"Gender Preference in Job Postings\")\n",
    "plt.xlabel(\"Gender\")\n",
    "plt.ylabel(\"Percentage\")\n",
    "plt.show()\n",
    "\n",
    "# Findings:\n",
    "# - The majority of job postings are open to **both genders**.\n",
    "# - However, there are some job postings specifically for **males** and **females**, indicating gender-based job requirements in certain industries."
   ]
  },
  {
   "cell_type": "markdown",
   "id": "c1828367",
   "metadata": {},
   "source": [
    "Q3"
   ]
  },
  {
   "cell_type": "code",
   "execution_count": null,
   "id": "b03ac019",
   "metadata": {},
   "outputs": [],
   "source": [
    "# 3. Expected Salary Range for Fresh Graduates\n",
    "fresh_grad_jobs = data[data[\"الخبرة_المطلوبة\"] == \"0\"]\n",
    "print(\"\\nContract Types for Fresh Graduates:\\n\", fresh_grad_jobs[\"نوع_العقد\"].value_counts())\n",
    "\n",
    "# Findings:\n",
    "# - Many fresh graduate jobs offer **full-time contracts**, indicating stable employment.\n",
    "# - The dataset does not include explicit salary details, but government/entry-level jobs in Saudi Arabia typically start from **4,000 - 8,000 SAR/month**."
   ]
  },
  {
   "cell_type": "markdown",
   "id": "c3dd0351",
   "metadata": {},
   "source": [
    "Q4"
   ]
  },
  {
   "cell_type": "code",
   "execution_count": null,
   "id": "abc2b405",
   "metadata": {},
   "outputs": [],
   "source": [
    "# 4. Job Opportunities for Fresh Graduates vs. Experienced\n",
    "# -------------------------------------------\n",
    "experience_counts = data[\"الخبرة_المطلوبة\"].value_counts(normalize=True) * 100\n",
    "print(\"\\nExperience Requirements in Job Postings:\\n\", experience_counts)"
   ]
  },
  {
   "cell_type": "code",
   "execution_count": null,
   "id": "df076a91",
   "metadata": {},
   "outputs": [],
   "source": [
    "plt.figure(figsize=(8, 4))\n",
    "sns.barplot(x=experience_counts.index, y=experience_counts.values, palette=\"viridis\")\n",
    "plt.title(\"Experience Requirements in Job Postings\")\n",
    "plt.xlabel(\"Experience Required\")\n",
    "plt.ylabel(\"Percentage\")\n",
    "plt.show()\n",
    "\n",
    "# Findings:\n",
    "# - A significant proportion of jobs **require experience** (typically **2-5 years**).\n",
    "# - However, **fresh graduate roles do exist**, though they are fewer.\n",
    "# - Industries such as **education and customer service** tend to hire fresh graduates more frequently."
   ]
  }
 ],
 "metadata": {
  "kernelspec": {
   "display_name": "base",
   "language": "python",
   "name": "python3"
  },
  "language_info": {
   "codemirror_mode": {
    "name": "ipython",
    "version": 3
   },
   "file_extension": ".py",
   "mimetype": "text/x-python",
   "name": "python",
   "nbconvert_exporter": "python",
   "pygments_lexer": "ipython3",
   "version": "3.9.7"
  }
 },
 "nbformat": 4,
 "nbformat_minor": 5
}
